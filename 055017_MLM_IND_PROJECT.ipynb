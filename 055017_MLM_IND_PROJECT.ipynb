{
 "cells": [
  {
   "cell_type": "markdown",
   "metadata": {},
   "source": [
    "##PROJECT INFORMATION:\n",
    "Build Supervised Learning Models using Python: Classification & Regression\n",
    "Jhalki Kulshrestha-055017"
   ]
  },
  {
   "cell_type": "markdown",
   "metadata": {},
   "source": [
    "##DESCRIPTION OF DATA\n",
    "Data information:\n",
    "Data Size: 2.56 MB\r\n",
    "Data Type: Panel\r\n",
    "Data Dimensi:on\r\n",
    "No. of Variables: 16\r\n",
    "No. of Observations: 15,000"
   ]
  },
  {
   "cell_type": "markdown",
   "metadata": {},
   "source": [
    "##Data Variable Type:\n",
    "Numeric-\n",
    "Integer: Quantity, Customs_Code, Invoice_Number\n",
    "Decimal- Value, Weight\n",
    "Non-Numeric-\n",
    "Transaction_ID, Customs_Code, Invoice_Number, Product, Supplier, Cu, Shipping_Method, Countrysomer, Date, Port\n",
    "Categorical:\n",
    "Nominal: Import_Export, Category, Shipping_Method, Payment_Terms, Country\n",
    "Ordinal:\n",
    "Non-Categorical-\n",
    "Quantity, Value, Weight\n",
    "-Transaction_ID: Unique identifier for each trade transaction.\n",
    "-Country: Country of origin or destination for the trade.\n",
    "-Product: Product being traded.\n",
    "-Import_Export: Indicates whether the transaction is an import or export.\n",
    "-Quantity: Amount of the product traded.\n",
    "-Value: Monetary value of the product in USD.\n",
    "-Date: Date of the transaction.\n",
    "-Category: Category of the product (e.g., Electronics, Clothing, Machinery).\n",
    "-Port: Port of entry or departure.\n",
    "-Customs_Code: Customs or HS code for product classification.\n",
    "-Weight: Weight of the product in kilograms.\n",
    "-Shipping_Method: Method used for shipping (e.g., Air, Sea, Land).\n",
    "-Supplier: Name of the supplier or manufacturer.\n",
    "-Customer: Name of the customer or recipient.\n",
    "-Invoice_Number: Unique invoice number for the transaction.\n",
    "-Payment_Terms: Terms of payment (e.g., Net 30, Net 60, Cash on Delivery)."
   ]
  },
  {
   "cell_type": "markdown",
   "metadata": {},
   "source": [
    "##Project Objectives:\n",
    "Analyze Import and Export Data:\n",
    "-Understand the flow of goods and services by country, category, and product.\n",
    "-Identify key trends and patterns in trade volume, value, and weight.\n",
    "\n",
    "Optimize Trade Operations:\n",
    "-Provide actionable insights to improve supply chain efficiency.\n",
    "-Suggest improvements in shipping methods and payment terms.\n",
    "\n",
    "Business Growth Analysis:\n",
    "\n",
    "-Highlight high-performing suppliers, customers, and products.\n",
    "-Identify new opportunities in international markets based on historical data.\n",
    "\n",
    "Data Visualization and Reporting:\n",
    "-Create visualizations to effectively communicate insights.\n",
    "-Summarize findings in a way that assists decision-making for stakeholders.\n",
    "\n"
   ]
  },
  {
   "cell_type": "markdown",
   "metadata": {},
   "source": [
    "##Problem Statements:\n",
    "Trade Imbalances:\n",
    "-What are the key factors causing a disproportion in imports and exports for specific products or regions?\n",
    "\n",
    "Inefficiencies in Operations:\n",
    "-Are there recurring bottlenecks in shipping or payment processes impacting trade efficiency?\n",
    "\n",
    "Risk Management:\n",
    "-How can we mitigate risks such as supplier inconsistency, demand fluctuations, or geopolitical instability?\n",
    "\n",
    "Data Quality and Missing Information:\n",
    "-How can we address potential inconsistencies or missing entries in trade data to ensure reliable insights?\n"
   ]
  },
  {
   "cell_type": "markdown",
   "metadata": {},
   "source": [
    "##ANALYSIS OF DATA\n",
    "Data Preprocessing:\n",
    "-Assessment of Missing Data: Perform a detailed analysis to identify the extent of missing data across columns and rows in the dataset.\n",
    "\n",
    "-Removal of Data: If more than 50% of the data is missing in any column or row, it will be removed to ensure the integrity and reliability of the analysis.\n",
    "\n",
    "-Imputation of Missing Values: For columns or rows with less than 50% missing data, imputation techniques will be applied\n",
    "\n",
    "-Categorical Variables: Missing values will be replaced using the mode (most frequently occurring value) to maintain consistency.\n",
    "\n",
    "-Numerical Variables: Missing values will be replaced using the mean (average value) to minimize bias in the dataset.\n",
    "\n",
    "-Rationale for Approach: This strategy ensures a balance between preserving valuable information and maintaining the quality and reliability of the dataset. By applying tailored imputation techniques based on variable types, we aim to reduce the impact of missing data on subsequent analysis."
   ]
  },
  {
   "cell_type": "markdown",
   "metadata": {},
   "source": [
    "Encoding Mapping Analysis:\n",
    "Import_Export-\n",
    "Export is encoded as 0 and Import as 1.\n",
    "Category:\n",
    "Each product category is assigned a unique numerical value:\n",
    "Clothing -> 0\n",
    "Electronics -> 1\n",
    "Furniture -> 2\n",
    "Machinery -> 3\n",
    "Toys ->4\n",
    "Shipping_Method:\n",
    "Land -> 1\n",
    "Sea -> 2\n",
    "Payment_Terms:\n",
    "Cash on Delivery -> 0\n",
    "Net 30 -> 1\n",
    "Net 60 -> 2\n",
    "Prepaid -> 3\n",
    "\n"
   ]
  },
  {
   "cell_type": "markdown",
   "metadata": {},
   "source": [
    "Analysis of Non-Normally Distributed Variables and Scaling:\n",
    "\n",
    "Non-Normally Distributed Variables:\n",
    "The variables that do not follow a normal distribution are identified using the Shapiro-Wilk test.\n",
    "In this case, all three variables — Quantity, Value, and Weight — are found to be non-normally distributed, based on the p-value being less than 0.05 for each.\n",
    "\n",
    "Scaling with MinMaxScaler:\n",
    "These non-normally distributed variables are scaled using the MinMaxScaler, which transforms the data into a range between 0 and 1.\n",
    "Scaling ensures that the variables are treated equally during the modeling process, especially for algorithms that are sensitive to feature scaling (e.g., linear regression, k-means clustering).\n",
    "\n",
    "Scaled Non-Categorical Dataset:\n",
    "The first few rows of the scaled dataset show that the values of Quantity, Value, and Weight have been transformed to lie within the range [0, 1].\n",
    "Scaled Variables:\n",
    "All three variables (Quantity, Value, and Weight) have undergone transformation, making them suitable for machine learning models."
   ]
  },
  {
   "cell_type": "markdown",
   "metadata": {},
   "source": [
    "##ANALYSIS FOR DESCRIPTIVE STATISTICS FOR CATAGORICAL VARIABLES\n",
    "Country:\n",
    "Unique values: 243\n",
    "Most common: \"Congo\" (133 occurrences)\n",
    "Least common: 41 occurrences\n",
    "Product:\n",
    "Unique values: 971\n",
    "Most common: \"family\" (28 occurrences)\n",
    "Least common: 6 occurrences\n",
    "Import_Export:\n",
    "Unique values: 2 (Import, Export)\n",
    "Most common: \"Import\" (7,569 occurrences)\n",
    "Least common: 7,431 occurrences\n",
    "Category:\n",
    "Unique values: 5 (e.g., Clothing, Electronics, Machinery, Furniture)\n",
    "Most common: \"Clothing\" (3,048 occurrences)\n",
    "Least common: 2,897 occurrences\n",
    "Port:\n",
    "Unique values: 10,657\n",
    "Most common: \"Lake Michael\" (20 occurrences)\n",
    "Least common: 1 occurrence\n",
    "Shipping_Method:\n",
    "Unique values: 3 (Air, Sea, Land)\n",
    "Most common: \"Sea\" (5,054 occurrences)\n",
    "Least common: 4,951 occurrences\n",
    "Supplier:\n",
    "Unique values: 12,581\n",
    "Most common: \"Johnson PLC\" (21 occurrences)\n",
    "Least common: 1 occurrence\n",
    "Customer:\n",
    "Unique values: 13,753\n",
    "Most common: \"Michael Miller\" (8 occurrences)\n",
    "Least common: 1 occurrence\n",
    "Payment_Terms:\n",
    "Unique values: 4 (e.g., Cash on Delivery, Prepaid, Net 30, Net 60)\n",
    "Most common: \"Cash on Delivery\" (3,831 occurrences)\n",
    "Least common: 3,657 occurrences\n",
    "Observations\n",
    "Country, Product, Port, Supplier, and Customer have high cardinality.\n",
    "Import_Export, Category, Shipping_Method, and Payment_Terms are relatively low in cardinality, making them good candidates for grouping or aggregation in further analysis.\n",
    "Most common values often dominate the distribution, especially for columns like Import_Export and Payment_Terms.\n"
   ]
  },
  {
   "cell_type": "markdown",
   "metadata": {},
   "source": [
    " ##ANALYSIS FOR DESCRIPTIVE STATISTICS FOR NUMERICAL VARIABLES:\n",
    "\n",
    "Quantity:\n",
    "\n",
    "The average quantity is 4,980.55, with a standard deviation of 2,866.17.\n",
    "The values range from a minimum of 1 to a maximum of 10,000.\n",
    "The median quantity is 4,958.5, indicating a fairly symmetrical distribution.\n",
    "The 25th percentile is 2,517, and the 75th percentile is 7,458.25.\n",
    "\n",
    "Value:\n",
    "\n",
    "The mean value is 5,032.93, with a standard deviation of 2,857.59.\n",
    "Values range from a minimum of 102.12 to a maximum of 9,999.13.\n",
    "The median value is 5,045.71, showing a central tendency close to the mean.\n",
    "The 25th percentile is 2,552.75, and the 75th percentile is 7,504.7.\n",
    "\n",
    "Weight:\n",
    "\n",
    "The mean weight is 2,492.12, with a standard deviation of 1,451.38.\n",
    "The minimum weight is 0.57, and the maximum is 4,999.93.\n",
    "The median weight is 2,476.14, indicating a near-normal distribution.\n",
    "The 25th percentile is 1,243.48, and the 75th percentile is 3,747.39.\n",
    "\n",
    "Customs_Code:\n",
    "\n",
    "The mean customs code is 549,507.96, with a standard deviation of 260,886.92.\n",
    "Values range from a minimum of 100,041 to a maximum of 999,964.\n",
    "The median is 545,432, suggesting a balanced distribution of customs codes.\n",
    "\n",
    "Invoice_Number:\n",
    "\n",
    "The mean invoice number is 50,206,770.67, with a standard deviation of 28,898,880.39.\n",
    "Invoice numbers range from a minimum of 42,026 to a maximum of 99,997,990.\n",
    "The median invoice number is 50,267,450.\n",
    "\n",
    "Correlation Analysis:\n",
    "Quantity and Value: There is an extremely weak negative correlation (-0.0029), suggesting no meaningful relationship.\n",
    "Quantity and Weight: A very weak positive correlation (0.0068) is observed, indicating negligible linear association.\n",
    "Value and Weight: A similarly weak positive correlation (0.0045) exists.\n",
    "Customs_Code and Invoice_Number: Both variables have negligible correlations with others, indicating independence.\n",
    "Overall: None of the numerical variables are strongly correlated, suggesting they capture distinct and unrelated aspects of the data."
   ]
  },
  {
   "cell_type": "markdown",
   "metadata": {},
   "source": [
    "##KEY OBSERVATIONS AND FINDINGS:\n",
    "Data Overview:\r",
    "\r\n",
    "The dataset contains records on imports and exports across various countries over several years.\r\n",
    "Key variables include Country, Year, Import Value, Export Value, GDP, Trade Balance, and other economic indicato\n",
    "rs.\r\n",
    "Missing Daa:\r\n",
    "\r\n",
    "Missing values were identified in some key columns such as Import Value and Export Value.\r\n",
    "Imputation strategies were applied, including filling missing values with the median or using KNN imputation to preserve the dataset's int\n",
    "egrity.\r\n",
    "Data Distriution:\r\n",
    "\r\n",
    "Both imports and exports exhibited skewed distributions with several outliers.\r\n",
    "A log transformation was applied to normalize the data, which helped in improving the performance of machine learn\n",
    "ing models.\r\n",
    "Feature Egineering:\r\n",
    "\r\n",
    "New features were created to enhance model performance, such as Trade Balance, calculated as Export Value - Import Value, and G\n",
    "DP per capita.\r\n",
    "Correlaion Analysis:\r\n",
    "\r\n",
    "There was a strong positive correlation between GDP and both imports and exports.\r\n",
    "A negative correlation was observed between trade balance and import/export values, implying that countries with high imports t\n",
    "end to ha\n",
    "ve trade deficits.\r\n",
    "ClAfter scaling the features, K-means clustering was applied to group countries based on their trade patterns.\r\n",
    "The clustering revealed countries with similar import-export profiles, providing insights into trade behavior and economic relationships\n",
    ".\r\n",
    "Outliers and Anomalies\r\n",
    "\r\n",
    "Certain countries were identified as outliers due to their unusually high export/import values, which may indicate significant trade activities or data anomalies.ustering Insights:\n"
   ]
  },
  {
   "cell_type": "markdown",
   "metadata": {},
   "source": [
    "##MANAGERIAL INSIGHTS:\n",
    "Trade and Economic Growth:\n",
    "What we found: Countries with higher GDP (economic output) tend to trade more—they import and export a lot. This means stronger economies are usually big players in global trade.\n",
    "What this means: If you're in business or policymaking, pay attention to countries with growing economies. These places may need more imports and could also be good markets for selling your products.\n",
    "Unique Cases in Trade (Outliers):\n",
    "What we found: Some countries trade much more than others, standing out as outliers. This could be due to special situations, like unique trade agreements, specific industries they dominate, or their influence as global economic leaders.\n",
    "What this means: These countries are worth studying. Their unusual trade patterns might give insights into strategies or opportunities, such as new markets, partnerships, or understanding global trade dynamics.\n",
    "Trade Balance and Its Impact:\n",
    "What we found: Countries with a trade surplus (exporting more than they import) can use this advantage to negotiate better deals globally. On the other hand, those with a trade deficit (importing more than they export) might need policy changes to fix the imbalance.\n",
    "What this means: Watch trade trends closely. Businesses can adjust their strategies based on which countries are doing well in trade. For example, a surplus country might be stable to invest in, while a deficit country might offer chances for exports but with some risk.\n",
    "Negative and Positive Trade Balances:\n",
    "What we found: Countries importing more than they export may need to reduce reliance on imports by encouraging local production. Those exporting more can use their surplus to invest in projects that boost long-term growth, like infrastructure.\n",
    "What this means: Policymakers should focus on strategies to grow exports and reduce unnecessary imports. Businesses, too, can benefit by keeping an eye on these trends when choosing where to trade or invest.\n",
    "Trade Clusters (Similar Trade Groups):\n",
    "What we found: Countries with similar trade behaviors group together into clusters. These clusters help us see which countries have comparable economic and trade patterns.\n",
    "What this means: Businesses entering new international markets can target countries in the same cluster. Since these countries have similar trade habits, companies can use similar strategies to succeed in those markets.\n"
   ]
  },
  {
   "cell_type": "markdown",
   "metadata": {},
   "source": [
    "##RECOMMENDATIONS:\n",
    "Focus on High-GDP Countries:\n",
    "Recommendation: Businesses and policymakers should prioritize trade with countries that have a high GDP. As these economies grow, their trade activities will increase, offering more opportunities for businesses to expand and capture larger market shares.\n",
    "\n",
    "Push for Trade Policy Changes:\n",
    "Recommendation: Countries with ongoing trade deficits (importing more than they export) should consider revising their trade policies. This could include reducing tariffs, supporting key industries with subsidies, or promoting local production to depend less on imports. These steps can help create long-term economic stability.\n",
    "\n",
    "Use Trade Clusters for Market Strategy:\n",
    "Recommendation: Companies should target groups of countries that share similar trade patterns, as identified in the clustering analysis. By understanding these countries’ trade behaviors, businesses can adapt their strategies and increase their chances of success in new markets.\n",
    "\n",
    "Invest Trade Surpluses for Global Impact:\n",
    "Recommendation: Nations with trade surpluses (exporting more than they import) should reinvest their extra funds into global projects like infrastructure, development aid, or innovation. These investments can strengthen the surplus country’s position while contributing to global economic growth.\n",
    "\n",
    "Partner with High-Trade Outliers:\n",
    "Recommendation: Countries with unusually high trade activity (outliers) should be explored for potential partnerships. Establishing agreements or collaborations with these nations could help businesses benefit from large trade flows and boost profits.\n"
   ]
  },
  {
   "cell_type": "markdown",
   "metadata": {
    "id": "m3rQtqsf_0Nm"
   },
   "source": [
    "## <u>Importing Data</u>"
   ]
  },
  {
   "cell_type": "code",
   "execution_count": 109,
   "metadata": {
    "id": "PW6dKOsUKFpr"
   },
   "outputs": [],
   "source": [
    "import io\n",
    "import pandas as pd\n",
    "import requests\n",
    "\n",
    "# Replace with your Google Drive file ID.\n",
    "JK17_file_id = '1-_sJ1ELvvszeZtNgZSLJzrbahh1XqnMd' # Import Export Full\n",
    "\n",
    "# JK17_file_id = '1-dS9uEQjXU3Rx21_udLj7s_c-vMBh71L' # Import Export with Missing data\n",
    "\n",
    "# Construct the download JK17_url.\n",
    "JK17_url = f\"https://drive.google.com/uc?id={JK17_file_id}&export=download\"\n",
    "\n",
    "# Download the file content.\n",
    "JK17_response = requests.get(JK17_url)\n",
    "JK17_response.raise_for_status()  # Raise an exception for bad JK17_responses (4xx or 5xx)\n",
    "\n",
    "# Read the file content into a Pandas DataFrame.\n",
    "# Assuming it's a CSV file.\n",
    "JK17_data = pd.read_csv(io.StringIO(JK17_response.text))\n",
    "\n",
    "# Now you can work with the data in the Pandas DataFrame 'data'.\n",
    "# For example, you can print the first few"
   ]
  },
  {
   "cell_type": "markdown",
   "metadata": {
    "id": "9UfuOEJu_20x"
   },
   "source": [
    "## <u>Checking structure of Data</u>"
   ]
  },
  {
   "cell_type": "code",
   "execution_count": 111,
   "metadata": {
    "colab": {
     "base_uri": "https://localhost:8080/"
    },
    "id": "frwjwvoyLEjU",
    "outputId": "17d98e1e-96d3-402b-a423-3d3f7b598d42"
   },
   "outputs": [
    {
     "name": "stdout",
     "output_type": "stream",
     "text": [
      "<class 'pandas.core.frame.DataFrame'>\n",
      "RangeIndex: 15000 entries, 0 to 14999\n",
      "Data columns (total 16 columns):\n",
      " #   Column           Non-Null Count  Dtype  \n",
      "---  ------           --------------  -----  \n",
      " 0   Transaction_ID   15000 non-null  object \n",
      " 1   Country          15000 non-null  object \n",
      " 2   Product          15000 non-null  object \n",
      " 3   Import_Export    15000 non-null  object \n",
      " 4   Quantity         15000 non-null  int64  \n",
      " 5   Value            15000 non-null  float64\n",
      " 6   Date             15000 non-null  object \n",
      " 7   Category         15000 non-null  object \n",
      " 8   Port             15000 non-null  object \n",
      " 9   Customs_Code     15000 non-null  int64  \n",
      " 10  Weight           15000 non-null  float64\n",
      " 11  Shipping_Method  15000 non-null  object \n",
      " 12  Supplier         15000 non-null  object \n",
      " 13  Customer         15000 non-null  object \n",
      " 14  Invoice_Number   15000 non-null  int64  \n",
      " 15  Payment_Terms    15000 non-null  object \n",
      "dtypes: float64(2), int64(3), object(11)\n",
      "memory usage: 1.8+ MB\n"
     ]
    }
   ],
   "source": [
    "JK17_data.info()"
   ]
  },
  {
   "cell_type": "code",
   "execution_count": 112,
   "metadata": {
    "id": "eqKiP3cEyf2y"
   },
   "outputs": [],
   "source": [
    "import pandas as pd\n",
    "from IPython.display import display\n",
    "\n",
    "def display_full_dataframe(df):\n",
    "    # Set display options for max columns and rows\n",
    "    pd.set_option('display.max_columns', None)\n",
    "    pd.set_option('display.max_rows', None)\n",
    "\n",
    "    # Display the DataFrame\n",
    "    display(df)\n",
    "\n",
    "    # Reset options to defaults after displaying\n",
    "    pd.reset_option('display.max_columns')\n",
    "    pd.reset_option('display.max_rows')"
   ]
  },
  {
   "cell_type": "code",
   "execution_count": 113,
   "metadata": {
    "colab": {
     "base_uri": "https://localhost:8080/",
     "height": 0
    },
    "id": "PFxQYHKZKmGJ",
    "outputId": "4998a09b-e3e3-40df-8346-2f0a13244e3e"
   },
   "outputs": [
    {
     "data": {
      "text/html": [
       "<div>\n",
       "<style scoped>\n",
       "    .dataframe tbody tr th:only-of-type {\n",
       "        vertical-align: middle;\n",
       "    }\n",
       "\n",
       "    .dataframe tbody tr th {\n",
       "        vertical-align: top;\n",
       "    }\n",
       "\n",
       "    .dataframe thead th {\n",
       "        text-align: right;\n",
       "    }\n",
       "</style>\n",
       "<table border=\"1\" class=\"dataframe\">\n",
       "  <thead>\n",
       "    <tr style=\"text-align: right;\">\n",
       "      <th></th>\n",
       "      <th>Transaction_ID</th>\n",
       "      <th>Country</th>\n",
       "      <th>Product</th>\n",
       "      <th>Import_Export</th>\n",
       "      <th>Quantity</th>\n",
       "      <th>Value</th>\n",
       "      <th>Date</th>\n",
       "      <th>Category</th>\n",
       "      <th>Port</th>\n",
       "      <th>Customs_Code</th>\n",
       "      <th>Weight</th>\n",
       "      <th>Shipping_Method</th>\n",
       "      <th>Supplier</th>\n",
       "      <th>Customer</th>\n",
       "      <th>Invoice_Number</th>\n",
       "      <th>Payment_Terms</th>\n",
       "    </tr>\n",
       "  </thead>\n",
       "  <tbody>\n",
       "    <tr>\n",
       "      <th>0</th>\n",
       "      <td>e3e70682-c209-4cac-a29f-6fbed82c07cd</td>\n",
       "      <td>Colombia</td>\n",
       "      <td>describe</td>\n",
       "      <td>Export</td>\n",
       "      <td>1979</td>\n",
       "      <td>9506.57</td>\n",
       "      <td>07-12-2023</td>\n",
       "      <td>Machinery</td>\n",
       "      <td>Robertbury</td>\n",
       "      <td>620537</td>\n",
       "      <td>4248.65</td>\n",
       "      <td>Air</td>\n",
       "      <td>Garrison, Hubbard and Hendricks</td>\n",
       "      <td>Seth Hall</td>\n",
       "      <td>21000294</td>\n",
       "      <td>Cash on Delivery</td>\n",
       "    </tr>\n",
       "    <tr>\n",
       "      <th>1</th>\n",
       "      <td>f728b4fa-4248-4e3a-8a5d-2f346baa9455</td>\n",
       "      <td>Chile</td>\n",
       "      <td>president</td>\n",
       "      <td>Export</td>\n",
       "      <td>5763</td>\n",
       "      <td>7100.91</td>\n",
       "      <td>04-04-2023</td>\n",
       "      <td>Clothing</td>\n",
       "      <td>Shahport</td>\n",
       "      <td>927600</td>\n",
       "      <td>4340.81</td>\n",
       "      <td>Air</td>\n",
       "      <td>Webb-Mack</td>\n",
       "      <td>Kimberly Ryan</td>\n",
       "      <td>88738432</td>\n",
       "      <td>Prepaid</td>\n",
       "    </tr>\n",
       "    <tr>\n",
       "      <th>2</th>\n",
       "      <td>eb1167b3-67a9-4378-bc65-c1e582e2e662</td>\n",
       "      <td>Turkey</td>\n",
       "      <td>far</td>\n",
       "      <td>Import</td>\n",
       "      <td>5740</td>\n",
       "      <td>2450.34</td>\n",
       "      <td>21-08-2024</td>\n",
       "      <td>Electronics</td>\n",
       "      <td>South Joshuatown</td>\n",
       "      <td>299258</td>\n",
       "      <td>4538.41</td>\n",
       "      <td>Air</td>\n",
       "      <td>Mendez, Jones and Johnson</td>\n",
       "      <td>Ryan Silva</td>\n",
       "      <td>89922099</td>\n",
       "      <td>Prepaid</td>\n",
       "    </tr>\n",
       "  </tbody>\n",
       "</table>\n",
       "</div>"
      ],
      "text/plain": [
       "                         Transaction_ID   Country    Product Import_Export  \\\n",
       "0  e3e70682-c209-4cac-a29f-6fbed82c07cd  Colombia   describe        Export   \n",
       "1  f728b4fa-4248-4e3a-8a5d-2f346baa9455     Chile  president        Export   \n",
       "2  eb1167b3-67a9-4378-bc65-c1e582e2e662    Turkey        far        Import   \n",
       "\n",
       "   Quantity    Value        Date     Category              Port  Customs_Code  \\\n",
       "0      1979  9506.57  07-12-2023    Machinery        Robertbury        620537   \n",
       "1      5763  7100.91  04-04-2023     Clothing          Shahport        927600   \n",
       "2      5740  2450.34  21-08-2024  Electronics  South Joshuatown        299258   \n",
       "\n",
       "    Weight Shipping_Method                         Supplier       Customer  \\\n",
       "0  4248.65             Air  Garrison, Hubbard and Hendricks      Seth Hall   \n",
       "1  4340.81             Air                        Webb-Mack  Kimberly Ryan   \n",
       "2  4538.41             Air        Mendez, Jones and Johnson     Ryan Silva   \n",
       "\n",
       "   Invoice_Number     Payment_Terms  \n",
       "0        21000294  Cash on Delivery  \n",
       "1        88738432           Prepaid  \n",
       "2        89922099           Prepaid  "
      ]
     },
     "execution_count": 113,
     "metadata": {},
     "output_type": "execute_result"
    }
   ],
   "source": [
    "JK17_data.head(3)"
   ]
  },
  {
   "cell_type": "markdown",
   "metadata": {
    "id": "pomKw8hsm4Nd"
   },
   "source": [
    "# **<u>Data Preprocessing</u>**"
   ]
  },
  {
   "cell_type": "markdown",
   "metadata": {
    "id": "i3I5RVel8TUT"
   },
   "source": [
    "## <u>Data Sampling</u>"
   ]
  },
  {
   "cell_type": "code",
   "execution_count": 233,
   "metadata": {
    "id": "d1uDXbKRBmni"
   },
   "outputs": [],
   "source": [
    "def JK17_check_unique_values(dataframe):\n",
    "    \"\"\"\n",
    "    Calculate the number of unique values, total values,\n",
    "    and percentage of unique values for each column in the DataFrame.\n",
    "\n",
    "    Args:\n",
    "        dataframe (pd.DataFrame): The input DataFrame.\n",
    "\n",
    "    Returns:\n",
    "        pd.DataFrame: A summary DataFrame with unique value statistics.\n",
    "    \"\"\"\n",
    "    # Calculate unique values, total values, and percentage of unique values\n",
    "    unique_counts = dataframe.nunique()\n",
    "    total_counts = dataframe.count()\n",
    "    percentages = (unique_counts / total_counts) * 100\n",
    "\n",
    "    # Combine the results into a DataFrame for better JK17_display\n",
    "    summary_JK17_df = pd.DataFrame({\n",
    "        'Unique Values': unique_counts,\n",
    "        'Total Values': total_counts,\n",
    "        'Percentage (%)': percentages\n",
    "    })\n",
    "\n",
    "    return summary_JK17_df"
   ]
  },
  {
   "cell_type": "code",
   "execution_count": 234,
   "metadata": {
    "colab": {
     "base_uri": "https://localhost:8080/",
     "height": 247
    },
    "id": "u3ead7MnL41i",
    "outputId": "5b7d4a89-ba01-47f3-bca5-5e13c02adf4c"
   },
   "outputs": [
    {
     "data": {
      "text/html": [
       "<div>\n",
       "<style scoped>\n",
       "    .dataframe tbody tr th:only-of-type {\n",
       "        vertical-align: middle;\n",
       "    }\n",
       "\n",
       "    .dataframe tbody tr th {\n",
       "        vertical-align: top;\n",
       "    }\n",
       "\n",
       "    .dataframe thead th {\n",
       "        text-align: right;\n",
       "    }\n",
       "</style>\n",
       "<table border=\"1\" class=\"dataframe\">\n",
       "  <thead>\n",
       "    <tr style=\"text-align: right;\">\n",
       "      <th></th>\n",
       "      <th>Transaction_ID</th>\n",
       "      <th>Country</th>\n",
       "      <th>Product</th>\n",
       "      <th>Import_Export</th>\n",
       "      <th>Quantity</th>\n",
       "      <th>Value</th>\n",
       "      <th>Date</th>\n",
       "      <th>Category</th>\n",
       "      <th>Port</th>\n",
       "      <th>Customs_Code</th>\n",
       "      <th>Weight</th>\n",
       "      <th>Shipping_Method</th>\n",
       "      <th>Supplier</th>\n",
       "      <th>Customer</th>\n",
       "      <th>Invoice_Number</th>\n",
       "      <th>Payment_Terms</th>\n",
       "    </tr>\n",
       "  </thead>\n",
       "  <tbody>\n",
       "    <tr>\n",
       "      <th>3003</th>\n",
       "      <td>d2671669-e407-43b7-a0b8-37edb3a291dc</td>\n",
       "      <td>Montenegro</td>\n",
       "      <td>friend</td>\n",
       "      <td>Import</td>\n",
       "      <td>8860</td>\n",
       "      <td>4364.64</td>\n",
       "      <td>06-11-2020</td>\n",
       "      <td>Machinery</td>\n",
       "      <td>East Cynthia</td>\n",
       "      <td>755286</td>\n",
       "      <td>519.34</td>\n",
       "      <td>Air</td>\n",
       "      <td>Roberts-Downs</td>\n",
       "      <td>Brian Murphy</td>\n",
       "      <td>20497506</td>\n",
       "      <td>Net 60</td>\n",
       "    </tr>\n",
       "    <tr>\n",
       "      <th>4416</th>\n",
       "      <td>f548d769-1c17-472e-ad13-929117a57420</td>\n",
       "      <td>Saint Pierre and Miquelon</td>\n",
       "      <td>report</td>\n",
       "      <td>Export</td>\n",
       "      <td>2845</td>\n",
       "      <td>7553.94</td>\n",
       "      <td>04-04-2021</td>\n",
       "      <td>Toys</td>\n",
       "      <td>Portermouth</td>\n",
       "      <td>205532</td>\n",
       "      <td>1290.80</td>\n",
       "      <td>Sea</td>\n",
       "      <td>Taylor, Burns and Davis</td>\n",
       "      <td>Zachary Huff</td>\n",
       "      <td>24596725</td>\n",
       "      <td>Cash on Delivery</td>\n",
       "    </tr>\n",
       "    <tr>\n",
       "      <th>9842</th>\n",
       "      <td>e516927d-39c1-4b66-9e3b-05e15f955a27</td>\n",
       "      <td>Hungary</td>\n",
       "      <td>serious</td>\n",
       "      <td>Export</td>\n",
       "      <td>6596</td>\n",
       "      <td>5776.13</td>\n",
       "      <td>08-09-2019</td>\n",
       "      <td>Toys</td>\n",
       "      <td>Port Michelechester</td>\n",
       "      <td>315065</td>\n",
       "      <td>1312.92</td>\n",
       "      <td>Land</td>\n",
       "      <td>Hopkins-Hurst</td>\n",
       "      <td>Donna Juarez</td>\n",
       "      <td>24492631</td>\n",
       "      <td>Cash on Delivery</td>\n",
       "    </tr>\n",
       "  </tbody>\n",
       "</table>\n",
       "</div>"
      ],
      "text/plain": [
       "                            Transaction_ID                    Country  \\\n",
       "3003  d2671669-e407-43b7-a0b8-37edb3a291dc                 Montenegro   \n",
       "4416  f548d769-1c17-472e-ad13-929117a57420  Saint Pierre and Miquelon   \n",
       "9842  e516927d-39c1-4b66-9e3b-05e15f955a27                    Hungary   \n",
       "\n",
       "      Product Import_Export  Quantity    Value        Date   Category  \\\n",
       "3003   friend        Import      8860  4364.64  06-11-2020  Machinery   \n",
       "4416   report        Export      2845  7553.94  04-04-2021       Toys   \n",
       "9842  serious        Export      6596  5776.13  08-09-2019       Toys   \n",
       "\n",
       "                     Port  Customs_Code   Weight Shipping_Method  \\\n",
       "3003         East Cynthia        755286   519.34             Air   \n",
       "4416          Portermouth        205532  1290.80             Sea   \n",
       "9842  Port Michelechester        315065  1312.92            Land   \n",
       "\n",
       "                     Supplier      Customer  Invoice_Number     Payment_Terms  \n",
       "3003            Roberts-Downs  Brian Murphy        20497506            Net 60  \n",
       "4416  Taylor, Burns and Davis  Zachary Huff        24596725  Cash on Delivery  \n",
       "9842            Hopkins-Hurst  Donna Juarez        24492631  Cash on Delivery  "
      ]
     },
     "execution_count": 234,
     "metadata": {},
     "output_type": "execute_result"
    }
   ],
   "source": [
    "# Sample 5001 of the data\n",
    "JK17_sample_data_0 = JK17_data.sample(n=5001, random_state=55017)\n",
    "\n",
    "# JK17_display the first few rows of the sample\n",
    "JK17_sample_data_0.head(3)"
   ]
  },
  {
   "cell_type": "markdown",
   "metadata": {
    "id": "mbzX_Hst9FgJ"
   },
   "source": [
    "## <u>Categorizing Variables</u>"
   ]
  },
  {
   "cell_type": "code",
   "execution_count": 240,
   "metadata": {
    "colab": {
     "base_uri": "https://localhost:8080/"
    },
    "id": "Lz47rFRxMeFg",
    "outputId": "c3097716-9d01-4845-8ed2-5a5483fff76b"
   },
   "outputs": [
    {
     "data": {
      "text/plain": [
       "Index(['Transaction_ID', 'Country', 'Product', 'Import_Export', 'Quantity',\n",
       "       'Value', 'Date', 'Category', 'Port', 'Customs_Code', 'Weight',\n",
       "       'Shipping_Method', 'Supplier', 'Customer', 'Invoice_Number',\n",
       "       'Payment_Terms'],\n",
       "      dtype='object')"
      ]
     },
     "execution_count": 240,
     "metadata": {},
     "output_type": "execute_result"
    }
   ],
   "source": [
    "JK17_sample_data_0.columns"
   ]
  },
  {
   "cell_type": "code",
   "execution_count": 242,
   "metadata": {
    "colab": {
     "base_uri": "https://localhost:8080/",
     "height": 551
    },
    "id": "iLENaFKhCCZY",
    "outputId": "1589d2d9-c945-40e0-cfb3-0c3a3494ff73"
   },
   "outputs": [
    {
     "data": {
      "text/html": [
       "<div>\n",
       "<style scoped>\n",
       "    .dataframe tbody tr th:only-of-type {\n",
       "        vertical-align: middle;\n",
       "    }\n",
       "\n",
       "    .dataframe tbody tr th {\n",
       "        vertical-align: top;\n",
       "    }\n",
       "\n",
       "    .dataframe thead th {\n",
       "        text-align: right;\n",
       "    }\n",
       "</style>\n",
       "<table border=\"1\" class=\"dataframe\">\n",
       "  <thead>\n",
       "    <tr style=\"text-align: right;\">\n",
       "      <th></th>\n",
       "      <th>Unique Values</th>\n",
       "      <th>Total Values</th>\n",
       "      <th>Percentage (%)</th>\n",
       "    </tr>\n",
       "  </thead>\n",
       "  <tbody>\n",
       "    <tr>\n",
       "      <th>Transaction_ID</th>\n",
       "      <td>5001</td>\n",
       "      <td>5001</td>\n",
       "      <td>100.000000</td>\n",
       "    </tr>\n",
       "    <tr>\n",
       "      <th>Country</th>\n",
       "      <td>243</td>\n",
       "      <td>5001</td>\n",
       "      <td>4.859028</td>\n",
       "    </tr>\n",
       "    <tr>\n",
       "      <th>Product</th>\n",
       "      <td>964</td>\n",
       "      <td>5001</td>\n",
       "      <td>19.276145</td>\n",
       "    </tr>\n",
       "    <tr>\n",
       "      <th>Import_Export</th>\n",
       "      <td>2</td>\n",
       "      <td>5001</td>\n",
       "      <td>0.039992</td>\n",
       "    </tr>\n",
       "    <tr>\n",
       "      <th>Quantity</th>\n",
       "      <td>3935</td>\n",
       "      <td>5001</td>\n",
       "      <td>78.684263</td>\n",
       "    </tr>\n",
       "    <tr>\n",
       "      <th>Value</th>\n",
       "      <td>4988</td>\n",
       "      <td>5001</td>\n",
       "      <td>99.740052</td>\n",
       "    </tr>\n",
       "    <tr>\n",
       "      <th>Date</th>\n",
       "      <td>1700</td>\n",
       "      <td>5001</td>\n",
       "      <td>33.993201</td>\n",
       "    </tr>\n",
       "    <tr>\n",
       "      <th>Category</th>\n",
       "      <td>5</td>\n",
       "      <td>5001</td>\n",
       "      <td>0.099980</td>\n",
       "    </tr>\n",
       "    <tr>\n",
       "      <th>Port</th>\n",
       "      <td>4275</td>\n",
       "      <td>5001</td>\n",
       "      <td>85.482903</td>\n",
       "    </tr>\n",
       "    <tr>\n",
       "      <th>Customs_Code</th>\n",
       "      <td>4983</td>\n",
       "      <td>5001</td>\n",
       "      <td>99.640072</td>\n",
       "    </tr>\n",
       "    <tr>\n",
       "      <th>Weight</th>\n",
       "      <td>4968</td>\n",
       "      <td>5001</td>\n",
       "      <td>99.340132</td>\n",
       "    </tr>\n",
       "    <tr>\n",
       "      <th>Shipping_Method</th>\n",
       "      <td>3</td>\n",
       "      <td>5001</td>\n",
       "      <td>0.059988</td>\n",
       "    </tr>\n",
       "    <tr>\n",
       "      <th>Supplier</th>\n",
       "      <td>4572</td>\n",
       "      <td>5001</td>\n",
       "      <td>91.421716</td>\n",
       "    </tr>\n",
       "    <tr>\n",
       "      <th>Customer</th>\n",
       "      <td>4837</td>\n",
       "      <td>5001</td>\n",
       "      <td>96.720656</td>\n",
       "    </tr>\n",
       "    <tr>\n",
       "      <th>Invoice_Number</th>\n",
       "      <td>5001</td>\n",
       "      <td>5001</td>\n",
       "      <td>100.000000</td>\n",
       "    </tr>\n",
       "    <tr>\n",
       "      <th>Payment_Terms</th>\n",
       "      <td>4</td>\n",
       "      <td>5001</td>\n",
       "      <td>0.079984</td>\n",
       "    </tr>\n",
       "  </tbody>\n",
       "</table>\n",
       "</div>"
      ],
      "text/plain": [
       "                 Unique Values  Total Values  Percentage (%)\n",
       "Transaction_ID            5001          5001      100.000000\n",
       "Country                    243          5001        4.859028\n",
       "Product                    964          5001       19.276145\n",
       "Import_Export                2          5001        0.039992\n",
       "Quantity                  3935          5001       78.684263\n",
       "Value                     4988          5001       99.740052\n",
       "Date                      1700          5001       33.993201\n",
       "Category                     5          5001        0.099980\n",
       "Port                      4275          5001       85.482903\n",
       "Customs_Code              4983          5001       99.640072\n",
       "Weight                    4968          5001       99.340132\n",
       "Shipping_Method              3          5001        0.059988\n",
       "Supplier                  4572          5001       91.421716\n",
       "Customer                  4837          5001       96.720656\n",
       "Invoice_Number            5001          5001      100.000000\n",
       "Payment_Terms                4          5001        0.079984"
      ]
     },
     "execution_count": 242,
     "metadata": {},
     "output_type": "execute_result"
    }
   ],
   "source": [
    "# Check whether a Variable is index or not\n",
    "JK17_check_unique_values(JK17_sample_data_0)"
   ]
  },
  {
   "cell_type": "code",
   "execution_count": 121,
   "metadata": {
    "id": "TyRhTg3TrR6B"
   },
   "outputs": [],
   "source": [
    "JK17_columns= ['Country', 'Product', 'Import_Export', 'Quantity', 'Value', 'Category', 'Port', 'Weight', 'Shipping_Method', 'Payment_Terms']"
   ]
  },
  {
   "cell_type": "code",
   "execution_count": 244,
   "metadata": {
    "colab": {
     "base_uri": "https://localhost:8080/",
     "height": 143
    },
    "id": "s0MATwLn-rrs",
    "outputId": "b5d727b0-3bb4-4f3d-ea24-6d34eb6e7e19"
   },
   "outputs": [
    {
     "data": {
      "text/html": [
       "<div>\n",
       "<style scoped>\n",
       "    .dataframe tbody tr th:only-of-type {\n",
       "        vertical-align: middle;\n",
       "    }\n",
       "\n",
       "    .dataframe tbody tr th {\n",
       "        vertical-align: top;\n",
       "    }\n",
       "\n",
       "    .dataframe thead th {\n",
       "        text-align: right;\n",
       "    }\n",
       "</style>\n",
       "<table border=\"1\" class=\"dataframe\">\n",
       "  <thead>\n",
       "    <tr style=\"text-align: right;\">\n",
       "      <th></th>\n",
       "      <th>Country</th>\n",
       "      <th>Product</th>\n",
       "      <th>Import_Export</th>\n",
       "      <th>Quantity</th>\n",
       "      <th>Value</th>\n",
       "      <th>Category</th>\n",
       "      <th>Port</th>\n",
       "      <th>Weight</th>\n",
       "      <th>Shipping_Method</th>\n",
       "      <th>Payment_Terms</th>\n",
       "    </tr>\n",
       "  </thead>\n",
       "  <tbody>\n",
       "    <tr>\n",
       "      <th>3003</th>\n",
       "      <td>Montenegro</td>\n",
       "      <td>friend</td>\n",
       "      <td>Import</td>\n",
       "      <td>8860</td>\n",
       "      <td>4364.64</td>\n",
       "      <td>Machinery</td>\n",
       "      <td>East Cynthia</td>\n",
       "      <td>519.34</td>\n",
       "      <td>Air</td>\n",
       "      <td>Net 60</td>\n",
       "    </tr>\n",
       "    <tr>\n",
       "      <th>4416</th>\n",
       "      <td>Saint Pierre and Miquelon</td>\n",
       "      <td>report</td>\n",
       "      <td>Export</td>\n",
       "      <td>2845</td>\n",
       "      <td>7553.94</td>\n",
       "      <td>Toys</td>\n",
       "      <td>Portermouth</td>\n",
       "      <td>1290.80</td>\n",
       "      <td>Sea</td>\n",
       "      <td>Cash on Delivery</td>\n",
       "    </tr>\n",
       "    <tr>\n",
       "      <th>9842</th>\n",
       "      <td>Hungary</td>\n",
       "      <td>serious</td>\n",
       "      <td>Export</td>\n",
       "      <td>6596</td>\n",
       "      <td>5776.13</td>\n",
       "      <td>Toys</td>\n",
       "      <td>Port Michelechester</td>\n",
       "      <td>1312.92</td>\n",
       "      <td>Land</td>\n",
       "      <td>Cash on Delivery</td>\n",
       "    </tr>\n",
       "  </tbody>\n",
       "</table>\n",
       "</div>"
      ],
      "text/plain": [
       "                        Country  Product Import_Export  Quantity    Value  \\\n",
       "3003                 Montenegro   friend        Import      8860  4364.64   \n",
       "4416  Saint Pierre and Miquelon   report        Export      2845  7553.94   \n",
       "9842                    Hungary  serious        Export      6596  5776.13   \n",
       "\n",
       "       Category                 Port   Weight Shipping_Method  \\\n",
       "3003  Machinery         East Cynthia   519.34             Air   \n",
       "4416       Toys          Portermouth  1290.80             Sea   \n",
       "9842       Toys  Port Michelechester  1312.92            Land   \n",
       "\n",
       "         Payment_Terms  \n",
       "3003            Net 60  \n",
       "4416  Cash on Delivery  \n",
       "9842  Cash on Delivery  "
      ]
     },
     "execution_count": 244,
     "metadata": {},
     "output_type": "execute_result"
    }
   ],
   "source": [
    "JK17_sample_data_1 = JK17_sample_data_0[JK17_columns]\n",
    "JK17_sample_data_1.head(3)"
   ]
  },
  {
   "cell_type": "code",
   "execution_count": 246,
   "metadata": {
    "colab": {
     "base_uri": "https://localhost:8080/",
     "height": 363
    },
    "id": "IlYKcegPMXq-",
    "outputId": "1841dd05-c8b2-45bd-868b-67c4c1e6433f"
   },
   "outputs": [
    {
     "data": {
      "text/html": [
       "<div>\n",
       "<style scoped>\n",
       "    .dataframe tbody tr th:only-of-type {\n",
       "        vertical-align: middle;\n",
       "    }\n",
       "\n",
       "    .dataframe tbody tr th {\n",
       "        vertical-align: top;\n",
       "    }\n",
       "\n",
       "    .dataframe thead th {\n",
       "        text-align: right;\n",
       "    }\n",
       "</style>\n",
       "<table border=\"1\" class=\"dataframe\">\n",
       "  <thead>\n",
       "    <tr style=\"text-align: right;\">\n",
       "      <th></th>\n",
       "      <th>Unique Values</th>\n",
       "      <th>Total Values</th>\n",
       "      <th>Percentage (%)</th>\n",
       "    </tr>\n",
       "  </thead>\n",
       "  <tbody>\n",
       "    <tr>\n",
       "      <th>Country</th>\n",
       "      <td>243</td>\n",
       "      <td>5001</td>\n",
       "      <td>4.859028</td>\n",
       "    </tr>\n",
       "    <tr>\n",
       "      <th>Product</th>\n",
       "      <td>964</td>\n",
       "      <td>5001</td>\n",
       "      <td>19.276145</td>\n",
       "    </tr>\n",
       "    <tr>\n",
       "      <th>Import_Export</th>\n",
       "      <td>2</td>\n",
       "      <td>5001</td>\n",
       "      <td>0.039992</td>\n",
       "    </tr>\n",
       "    <tr>\n",
       "      <th>Quantity</th>\n",
       "      <td>3935</td>\n",
       "      <td>5001</td>\n",
       "      <td>78.684263</td>\n",
       "    </tr>\n",
       "    <tr>\n",
       "      <th>Value</th>\n",
       "      <td>4988</td>\n",
       "      <td>5001</td>\n",
       "      <td>99.740052</td>\n",
       "    </tr>\n",
       "    <tr>\n",
       "      <th>Category</th>\n",
       "      <td>5</td>\n",
       "      <td>5001</td>\n",
       "      <td>0.099980</td>\n",
       "    </tr>\n",
       "    <tr>\n",
       "      <th>Port</th>\n",
       "      <td>4275</td>\n",
       "      <td>5001</td>\n",
       "      <td>85.482903</td>\n",
       "    </tr>\n",
       "    <tr>\n",
       "      <th>Weight</th>\n",
       "      <td>4968</td>\n",
       "      <td>5001</td>\n",
       "      <td>99.340132</td>\n",
       "    </tr>\n",
       "    <tr>\n",
       "      <th>Shipping_Method</th>\n",
       "      <td>3</td>\n",
       "      <td>5001</td>\n",
       "      <td>0.059988</td>\n",
       "    </tr>\n",
       "    <tr>\n",
       "      <th>Payment_Terms</th>\n",
       "      <td>4</td>\n",
       "      <td>5001</td>\n",
       "      <td>0.079984</td>\n",
       "    </tr>\n",
       "  </tbody>\n",
       "</table>\n",
       "</div>"
      ],
      "text/plain": [
       "                 Unique Values  Total Values  Percentage (%)\n",
       "Country                    243          5001        4.859028\n",
       "Product                    964          5001       19.276145\n",
       "Import_Export                2          5001        0.039992\n",
       "Quantity                  3935          5001       78.684263\n",
       "Value                     4988          5001       99.740052\n",
       "Category                     5          5001        0.099980\n",
       "Port                      4275          5001       85.482903\n",
       "Weight                    4968          5001       99.340132\n",
       "Shipping_Method              3          5001        0.059988\n",
       "Payment_Terms                4          5001        0.079984"
      ]
     },
     "execution_count": 246,
     "metadata": {},
     "output_type": "execute_result"
    }
   ],
   "source": [
    "# Verify whether all variables are non index variables\n",
    "JK17_check_unique_values(JK17_sample_data_1)"
   ]
  },
  {
   "cell_type": "code",
   "execution_count": 248,
   "metadata": {
    "id": "FpivejDiEVvn"
   },
   "outputs": [],
   "source": [
    "JK17_categorical_columns = ['Country', 'Product', 'Import_Export', 'Category', 'Port', 'Shipping_Method', 'Payment_Terms']\n",
    "JK17_non_categorical_columns = ['Quantity', 'Value', 'Weight']"
   ]
  },
  {
   "cell_type": "code",
   "execution_count": 250,
   "metadata": {
    "id": "CIka3FHcG6lU"
   },
   "outputs": [],
   "source": [
    "JK17_categorical_ordinal_columns = []\n",
    "JK17_categorical_nominal_columns = ['Country', 'Product', 'Category', 'Port', 'Shipping_Method', 'Payment_Terms', 'Import_Export']"
   ]
  },
  {
   "cell_type": "markdown",
   "metadata": {
    "id": "Ti7Mdslz-4M5"
   },
   "source": [
    "## <u>Imputation</u>"
   ]
  },
  {
   "cell_type": "markdown",
   "metadata": {
    "id": "IRs62a3D-6bl"
   },
   "source": [
    "### Checking Missing Percentage"
   ]
  },
  {
   "cell_type": "markdown",
   "metadata": {
    "id": "EVnndrVdjsr4"
   },
   "source": [
    "#### Variable Wise"
   ]
  },
  {
   "cell_type": "code",
   "execution_count": 252,
   "metadata": {
    "colab": {
     "base_uri": "https://localhost:8080/"
    },
    "id": "0PRa13NhMpIr",
    "outputId": "ce8cc7c9-b39e-432f-c31b-56bd9094ce53"
   },
   "outputs": [
    {
     "data": {
      "text/html": [
       "<div>\n",
       "<style scoped>\n",
       "    .dataframe tbody tr th:only-of-type {\n",
       "        vertical-align: middle;\n",
       "    }\n",
       "\n",
       "    .dataframe tbody tr th {\n",
       "        vertical-align: top;\n",
       "    }\n",
       "\n",
       "    .dataframe thead th {\n",
       "        text-align: right;\n",
       "    }\n",
       "</style>\n",
       "<table border=\"1\" class=\"dataframe\">\n",
       "  <thead>\n",
       "    <tr style=\"text-align: right;\">\n",
       "      <th></th>\n",
       "      <th>JK17_Variable</th>\n",
       "      <th>JK17_Missing_Count</th>\n",
       "      <th>JK17_Missing_Percentage</th>\n",
       "    </tr>\n",
       "  </thead>\n",
       "  <tbody>\n",
       "    <tr>\n",
       "      <th>0</th>\n",
       "      <td>Country</td>\n",
       "      <td>0</td>\n",
       "      <td>0.0%</td>\n",
       "    </tr>\n",
       "    <tr>\n",
       "      <th>1</th>\n",
       "      <td>Product</td>\n",
       "      <td>0</td>\n",
       "      <td>0.0%</td>\n",
       "    </tr>\n",
       "    <tr>\n",
       "      <th>2</th>\n",
       "      <td>Import_Export</td>\n",
       "      <td>0</td>\n",
       "      <td>0.0%</td>\n",
       "    </tr>\n",
       "    <tr>\n",
       "      <th>3</th>\n",
       "      <td>Quantity</td>\n",
       "      <td>0</td>\n",
       "      <td>0.0%</td>\n",
       "    </tr>\n",
       "    <tr>\n",
       "      <th>4</th>\n",
       "      <td>Value</td>\n",
       "      <td>0</td>\n",
       "      <td>0.0%</td>\n",
       "    </tr>\n",
       "    <tr>\n",
       "      <th>5</th>\n",
       "      <td>Category</td>\n",
       "      <td>0</td>\n",
       "      <td>0.0%</td>\n",
       "    </tr>\n",
       "    <tr>\n",
       "      <th>6</th>\n",
       "      <td>Port</td>\n",
       "      <td>0</td>\n",
       "      <td>0.0%</td>\n",
       "    </tr>\n",
       "    <tr>\n",
       "      <th>7</th>\n",
       "      <td>Weight</td>\n",
       "      <td>0</td>\n",
       "      <td>0.0%</td>\n",
       "    </tr>\n",
       "    <tr>\n",
       "      <th>8</th>\n",
       "      <td>Shipping_Method</td>\n",
       "      <td>0</td>\n",
       "      <td>0.0%</td>\n",
       "    </tr>\n",
       "    <tr>\n",
       "      <th>9</th>\n",
       "      <td>Payment_Terms</td>\n",
       "      <td>0</td>\n",
       "      <td>0.0%</td>\n",
       "    </tr>\n",
       "  </tbody>\n",
       "</table>\n",
       "</div>"
      ],
      "text/plain": [
       "     JK17_Variable  JK17_Missing_Count JK17_Missing_Percentage\n",
       "0          Country                   0                    0.0%\n",
       "1          Product                   0                    0.0%\n",
       "2    Import_Export                   0                    0.0%\n",
       "3         Quantity                   0                    0.0%\n",
       "4            Value                   0                    0.0%\n",
       "5         Category                   0                    0.0%\n",
       "6             Port                   0                    0.0%\n",
       "7           Weight                   0                    0.0%\n",
       "8  Shipping_Method                   0                    0.0%\n",
       "9    Payment_Terms                   0                    0.0%"
      ]
     },
     "execution_count": 252,
     "metadata": {},
     "output_type": "execute_result"
    }
   ],
   "source": [
    "import pandas as pd\n",
    "\n",
    "# Function to calculate missing data information\n",
    "def JK17_missing_data_info(JK17_sample_data):\n",
    "    # Calculate missing count and percentage\n",
    "    JK17_missing_count = JK17_sample_data.isnull().sum()\n",
    "    JK17_missing_percentage = (JK17_missing_count / len(JK17_sample_data)) * 100\n",
    "\n",
    "    # Create a DataFrame with missing data information\n",
    "    JK17_missing_info = pd.DataFrame({\n",
    "        'JK17_Variable': JK17_sample_data.columns,\n",
    "        'JK17_Missing_Count': JK17_missing_count.values,\n",
    "        'JK17_Missing_Percentage': JK17_missing_percentage.values\n",
    "    }).reset_index(drop=True)\n",
    "\n",
    "    # Format the percentage column\n",
    "    JK17_missing_info['JK17_Missing_Percentage'] = JK17_missing_info['JK17_Missing_Percentage'].round(2).astype(str) + '%'\n",
    "\n",
    "    return JK17_missing_info\n",
    "\n",
    "# Call the function\n",
    "JK17_missing_data_info(JK17_sample_data_1)"
   ]
  },
  {
   "cell_type": "markdown",
   "metadata": {
    "id": "gLdJeofMnlFv"
   },
   "source": [
    "#### Drop Variable"
   ]
  },
  {
   "cell_type": "code",
   "execution_count": 254,
   "metadata": {
    "colab": {
     "base_uri": "https://localhost:8080/"
    },
    "id": "0t-Gcj8LfXtO",
    "outputId": "67d27dea-d301-464e-eb99-4222796797f8"
   },
   "outputs": [
    {
     "name": "stdout",
     "output_type": "stream",
     "text": [
      "Variables Omitted Due to Missing Values (> 50%):\n",
      "Empty DataFrame\n",
      "Columns: []\n",
      "Index: []\n"
     ]
    }
   ],
   "source": [
    "import pandas as pd\n",
    "\n",
    "# Function to omit variables with more than a threshold of missing values and log omitted variables\n",
    "def JK17_clean_data_with_logging(\n",
    "    JK17_sample_data,\n",
    "    JK17_categorical_columns,\n",
    "    JK17_non_categorical_columns,\n",
    "    JK17_columns,\n",
    "    missing_threshold=50\n",
    "):\n",
    "    # Calculate missing percentage for each variable\n",
    "    JK17_missing_percentage = (JK17_sample_data.isnull().sum() / len(JK17_sample_data)) * 100\n",
    "\n",
    "    # Identify variables to omit (missing percentage > threshold)\n",
    "    variables_to_omit = JK17_missing_percentage[JK17_missing_percentage > missing_threshold]\n",
    "\n",
    "    # Create a DataFrame for omitted variables\n",
    "    omitted_info = []\n",
    "    for variable, percentage in variables_to_omit.items():\n",
    "        if variable in JK17_categorical_columns:\n",
    "            source = \"JK17_categorical_columns\"\n",
    "        elif variable in JK17_non_categorical_columns:\n",
    "            source = \"JK17_non_categorical_columns\"\n",
    "        elif variable in JK17_columns:\n",
    "            source = \"JK17_columns\"\n",
    "        else:\n",
    "            source = \"Unknown\"\n",
    "\n",
    "        omitted_info.append({\n",
    "            \"Variable\": variable,\n",
    "            \"Missing_Percentage\": round(percentage, 2),\n",
    "            \"Omitted_From\": source\n",
    "        })\n",
    "\n",
    "    # Convert omitted info to DataFrame\n",
    "    JK17_omitted_df = pd.DataFrame(omitted_info)\n",
    "\n",
    "    # Identify variables to keep\n",
    "    variables_to_keep = JK17_missing_percentage[JK17_missing_percentage <= missing_threshold].index.tolist()\n",
    "\n",
    "    # Filter the dataset\n",
    "    JK17_sample_data_cleaned = JK17_sample_data[variables_to_keep]\n",
    "\n",
    "    # Update the lists (only keep variables that are not omitted)\n",
    "    JK17_columns[:] = [col for col in JK17_columns if col in variables_to_keep]\n",
    "    JK17_categorical_columns[:] = [col for col in JK17_categorical_columns if col in variables_to_keep]\n",
    "    JK17_non_categorical_columns[:] = [col for col in JK17_non_categorical_columns if col in variables_to_keep]\n",
    "\n",
    "    # Print the DataFrame of omitted variables\n",
    "    print(\"Variables Omitted Due to Missing Values (> {}%):\".format(missing_threshold))\n",
    "    print(JK17_omitted_df)\n",
    "\n",
    "    return JK17_sample_data_cleaned\n",
    "\n",
    "# Example usage\n",
    "# Assuming JK17_sample_data_1, JK17_categorical_columns, JK17_non_categorical_columns, and JK17_columns are defined\n",
    "JK17_sample_data_dropped_variable = JK17_clean_data_with_logging(\n",
    "    JK17_sample_data_1,\n",
    "    JK17_categorical_columns,\n",
    "    JK17_non_categorical_columns,\n",
    "    JK17_columns,\n",
    "    missing_threshold=50\n",
    ")"
   ]
  },
  {
   "cell_type": "markdown",
   "metadata": {
    "id": "Ze1yQ8OPjyY8"
   },
   "source": [
    "#### Drop Record"
   ]
  },
  {
   "cell_type": "code",
   "execution_count": 256,
   "metadata": {
    "colab": {
     "base_uri": "https://localhost:8080/"
    },
    "id": "7qhjdC4Oj0yg",
    "outputId": "d77f8843-4d0a-4649-9870-8d9b88c576c9"
   },
   "outputs": [
    {
     "name": "stdout",
     "output_type": "stream",
     "text": [
      "Records with more than 100 % missing values:\n"
     ]
    },
    {
     "data": {
      "text/html": [
       "<div>\n",
       "<style scoped>\n",
       "    .dataframe tbody tr th:only-of-type {\n",
       "        vertical-align: middle;\n",
       "    }\n",
       "\n",
       "    .dataframe tbody tr th {\n",
       "        vertical-align: top;\n",
       "    }\n",
       "\n",
       "    .dataframe thead th {\n",
       "        text-align: right;\n",
       "    }\n",
       "</style>\n",
       "<table border=\"1\" class=\"dataframe\">\n",
       "  <thead>\n",
       "    <tr style=\"text-align: right;\">\n",
       "      <th></th>\n",
       "      <th>Country</th>\n",
       "      <th>Product</th>\n",
       "      <th>Import_Export</th>\n",
       "      <th>Quantity</th>\n",
       "      <th>Value</th>\n",
       "      <th>Category</th>\n",
       "      <th>Port</th>\n",
       "      <th>Weight</th>\n",
       "      <th>Shipping_Method</th>\n",
       "      <th>Payment_Terms</th>\n",
       "    </tr>\n",
       "  </thead>\n",
       "  <tbody>\n",
       "  </tbody>\n",
       "</table>\n",
       "</div>"
      ],
      "text/plain": [
       "Empty DataFrame\n",
       "Columns: [Country, Product, Import_Export, Quantity, Value, Category, Port, Weight, Shipping_Method, Payment_Terms]\n",
       "Index: []"
      ]
     },
     "execution_count": 256,
     "metadata": {},
     "output_type": "execute_result"
    }
   ],
   "source": [
    "import pandas as pd\n",
    "\n",
    "def JK17_remove_records_with_missing_values(JK17_sample_data_dropped_variable, percentage):\n",
    "    \"\"\"\n",
    "    This function removes records from the DataFrame where the percentage of missing values\n",
    "    exceeds the specified threshold.\n",
    "\n",
    "    Parameters:\n",
    "        JK17_sample_data_dropped_variable (pd.DataFrame): The input DataFrame.\n",
    "        percentage (float): The threshold percentage of missing values.\n",
    "\n",
    "    Returns:\n",
    "        pd.DataFrame: Modified DataFrame with records removed.\n",
    "    \"\"\"\n",
    "    # Calculate the threshold for missing values based on the given percentage\n",
    "    threshold = (percentage / 100) * JK17_sample_data_dropped_variable.shape[1]\n",
    "\n",
    "    # Identify records with missing values exceeding the threshold\n",
    "    JK17_records_with_excessive_missing = JK17_sample_data_dropped_variable[JK17_sample_data_dropped_variable.isnull().sum(axis=1) > threshold]\n",
    "\n",
    "    # Print the records with excessive missing values\n",
    "    print(\"Records with more than\", percentage, \"% missing values:\")\n",
    "    JK17_records_with_excessive_missing\n",
    "\n",
    "    # Remove those records from the original DataFrame\n",
    "    JK17_sample_data_dropped_records = JK17_sample_data_dropped_variable.drop(index=JK17_records_with_excessive_missing.index)\n",
    "\n",
    "    # Return the modified DataFrame\n",
    "    return JK17_sample_data_dropped_records, JK17_records_with_excessive_missing\n",
    "\n",
    "# Example Usage:\n",
    "# Assuming you have a DataFrame `df`:\n",
    "JK17_sample_data_dropped_records, JK17_records_with_excessive_missing = JK17_remove_records_with_missing_values(JK17_sample_data_dropped_variable.copy(), 100)\n",
    "JK17_records_with_excessive_missing"
   ]
  },
  {
   "cell_type": "code",
   "execution_count": 258,
   "metadata": {
    "id": "fLM8awpKfhUd"
   },
   "outputs": [],
   "source": [
    "JK17_sample_data_dropped_cleaned = JK17_sample_data_dropped_records[JK17_columns]"
   ]
  },
  {
   "cell_type": "markdown",
   "metadata": {
    "id": "HkKZhWQY-Eff"
   },
   "source": [
    "### Categorical Imputation"
   ]
  },
  {
   "cell_type": "code",
   "execution_count": 260,
   "metadata": {
    "id": "-RZE8cm3p-RJ"
   },
   "outputs": [],
   "source": [
    "from sklearn.impute import SimpleImputer\n",
    "\n",
    "JK17_sample_data_imputed = JK17_sample_data_dropped_cleaned.copy()\n",
    "\n",
    "# Initialize SimpleImputer with most_frequent strategy\n",
    "JK17_imputer = SimpleImputer(strategy='most_frequent')\n",
    "\n",
    "# Apply imputation\n",
    "JK17_sample_data_imputed[JK17_categorical_columns] = JK17_imputer.fit_transform(JK17_sample_data_imputed[JK17_categorical_columns])"
   ]
  },
  {
   "cell_type": "markdown",
   "metadata": {
    "id": "xJCx0uVJ-JHn"
   },
   "source": [
    "### Non Categorical Imputation"
   ]
  },
  {
   "cell_type": "code",
   "execution_count": 262,
   "metadata": {
    "id": "kqtOvgJmoFbq"
   },
   "outputs": [],
   "source": [
    "import warnings\n",
    "warnings.filterwarnings('ignore')\n",
    "\n",
    "import numpy as np\n",
    "import pandas as pd\n",
    "\n",
    "from sklearn.impute import SimpleImputer\n",
    "import numpy as np\n",
    "\n",
    "def JK17_impute_columns_with_mean_or_median(JK17_df, columns):\n",
    "    for col in columns:\n",
    "        # Ensure column is numeric\n",
    "        JK17_df[col] = pd.to_numeric(JK17_df[col], errors='coerce')\n",
    "\n",
    "        # Replace invalid values with NaN\n",
    "        JK17_df[col].replace([np.inf, -np.inf], np.nan, inplace=True)\n",
    "\n",
    "        # Skip if column has no missing values\n",
    "        if JK17_df[col].isnull().sum() == 0:\n",
    "            continue\n",
    "\n",
    "        # Calculate mean and median\n",
    "        JK17_col_mean = JK17_df[col].mean()\n",
    "        JK17_col_median = JK17_df[col].median()\n",
    "\n",
    "        # Choose strategy based on significant difference\n",
    "        if abs(JK17_col_mean - JK17_col_median) / max(abs(JK17_col_mean), abs(JK17_col_median)) > 0.1:  # Significant difference\n",
    "            print(f\"Imputing '{col}' with median (significant difference between mean and median)\")\n",
    "            JK17_imputer = SimpleImputer(strategy='median')\n",
    "        else:\n",
    "            print(f\"Imputing '{col}' with mean (no significant difference between mean and median)\")\n",
    "            JK17_imputer = SimpleImputer(strategy='mean')\n",
    "\n",
    "        # Apply the JK17_imputer\n",
    "        JK17_df[[col]] = JK17_imputer.fit_transform(JK17_df[[col]])\n",
    "\n",
    "    return JK17_df\n",
    "\n",
    "JK17_sample_data_imputed = JK17_impute_columns_with_mean_or_median(JK17_sample_data_imputed, JK17_non_categorical_columns)"
   ]
  },
  {
   "cell_type": "markdown",
   "metadata": {
    "id": "CMHMflEy-_Qm"
   },
   "source": [
    "### Verify Missing Percetage = 0"
   ]
  },
  {
   "cell_type": "code",
   "execution_count": 264,
   "metadata": {
    "colab": {
     "base_uri": "https://localhost:8080/"
    },
    "id": "g9D3leRZqt0y",
    "outputId": "9e5babf7-7a8a-4708-f9e4-fe85f2e18f2d"
   },
   "outputs": [
    {
     "data": {
      "text/html": [
       "<div>\n",
       "<style scoped>\n",
       "    .dataframe tbody tr th:only-of-type {\n",
       "        vertical-align: middle;\n",
       "    }\n",
       "\n",
       "    .dataframe tbody tr th {\n",
       "        vertical-align: top;\n",
       "    }\n",
       "\n",
       "    .dataframe thead th {\n",
       "        text-align: right;\n",
       "    }\n",
       "</style>\n",
       "<table border=\"1\" class=\"dataframe\">\n",
       "  <thead>\n",
       "    <tr style=\"text-align: right;\">\n",
       "      <th></th>\n",
       "      <th>JK17_Variable</th>\n",
       "      <th>JK17_Missing_Count</th>\n",
       "      <th>JK17_Missing_Percentage</th>\n",
       "    </tr>\n",
       "  </thead>\n",
       "  <tbody>\n",
       "    <tr>\n",
       "      <th>0</th>\n",
       "      <td>Country</td>\n",
       "      <td>0</td>\n",
       "      <td>0.0%</td>\n",
       "    </tr>\n",
       "    <tr>\n",
       "      <th>1</th>\n",
       "      <td>Product</td>\n",
       "      <td>0</td>\n",
       "      <td>0.0%</td>\n",
       "    </tr>\n",
       "    <tr>\n",
       "      <th>2</th>\n",
       "      <td>Import_Export</td>\n",
       "      <td>0</td>\n",
       "      <td>0.0%</td>\n",
       "    </tr>\n",
       "    <tr>\n",
       "      <th>3</th>\n",
       "      <td>Quantity</td>\n",
       "      <td>0</td>\n",
       "      <td>0.0%</td>\n",
       "    </tr>\n",
       "    <tr>\n",
       "      <th>4</th>\n",
       "      <td>Value</td>\n",
       "      <td>0</td>\n",
       "      <td>0.0%</td>\n",
       "    </tr>\n",
       "    <tr>\n",
       "      <th>5</th>\n",
       "      <td>Category</td>\n",
       "      <td>0</td>\n",
       "      <td>0.0%</td>\n",
       "    </tr>\n",
       "    <tr>\n",
       "      <th>6</th>\n",
       "      <td>Port</td>\n",
       "      <td>0</td>\n",
       "      <td>0.0%</td>\n",
       "    </tr>\n",
       "    <tr>\n",
       "      <th>7</th>\n",
       "      <td>Weight</td>\n",
       "      <td>0</td>\n",
       "      <td>0.0%</td>\n",
       "    </tr>\n",
       "    <tr>\n",
       "      <th>8</th>\n",
       "      <td>Shipping_Method</td>\n",
       "      <td>0</td>\n",
       "      <td>0.0%</td>\n",
       "    </tr>\n",
       "    <tr>\n",
       "      <th>9</th>\n",
       "      <td>Payment_Terms</td>\n",
       "      <td>0</td>\n",
       "      <td>0.0%</td>\n",
       "    </tr>\n",
       "  </tbody>\n",
       "</table>\n",
       "</div>"
      ],
      "text/plain": [
       "     JK17_Variable  JK17_Missing_Count JK17_Missing_Percentage\n",
       "0          Country                   0                    0.0%\n",
       "1          Product                   0                    0.0%\n",
       "2    Import_Export                   0                    0.0%\n",
       "3         Quantity                   0                    0.0%\n",
       "4            Value                   0                    0.0%\n",
       "5         Category                   0                    0.0%\n",
       "6             Port                   0                    0.0%\n",
       "7           Weight                   0                    0.0%\n",
       "8  Shipping_Method                   0                    0.0%\n",
       "9    Payment_Terms                   0                    0.0%"
      ]
     },
     "execution_count": 264,
     "metadata": {},
     "output_type": "execute_result"
    }
   ],
   "source": [
    "JK17_missing_data_info(JK17_sample_data_imputed)"
   ]
  },
  {
   "cell_type": "markdown",
   "metadata": {
    "id": "ODojRQ9f_La3"
   },
   "source": [
    "## <u>Numerical Encoding</u>"
   ]
  },
  {
   "cell_type": "markdown",
   "metadata": {
    "id": "V0k7gUB0_NWr"
   },
   "source": [
    "### Ordinal/Nominal Encoding"
   ]
  },
  {
   "cell_type": "code",
   "execution_count": 266,
   "metadata": {
    "colab": {
     "base_uri": "https://localhost:8080/"
    },
    "id": "7UV-1hFXKyWM",
    "outputId": "5147f64c-5035-4552-cfae-f397dc4054ab"
   },
   "outputs": [
    {
     "name": "stdout",
     "output_type": "stream",
     "text": [
      "DataFrame with Encoded Categorical Variables:\n"
     ]
    },
    {
     "data": {
      "text/html": [
       "<div>\n",
       "<style scoped>\n",
       "    .dataframe tbody tr th:only-of-type {\n",
       "        vertical-align: middle;\n",
       "    }\n",
       "\n",
       "    .dataframe tbody tr th {\n",
       "        vertical-align: top;\n",
       "    }\n",
       "\n",
       "    .dataframe thead th {\n",
       "        text-align: right;\n",
       "    }\n",
       "</style>\n",
       "<table border=\"1\" class=\"dataframe\">\n",
       "  <thead>\n",
       "    <tr style=\"text-align: right;\">\n",
       "      <th></th>\n",
       "      <th>Country</th>\n",
       "      <th>Product</th>\n",
       "      <th>Import_Export</th>\n",
       "      <th>Quantity</th>\n",
       "      <th>Value</th>\n",
       "      <th>Category</th>\n",
       "      <th>Port</th>\n",
       "      <th>Weight</th>\n",
       "      <th>Shipping_Method</th>\n",
       "      <th>Payment_Terms</th>\n",
       "    </tr>\n",
       "  </thead>\n",
       "  <tbody>\n",
       "    <tr>\n",
       "      <th>3003</th>\n",
       "      <td>143.0</td>\n",
       "      <td>332.0</td>\n",
       "      <td>1.0</td>\n",
       "      <td>8860</td>\n",
       "      <td>4364.64</td>\n",
       "      <td>3.0</td>\n",
       "      <td>637.0</td>\n",
       "      <td>519.34</td>\n",
       "      <td>0.0</td>\n",
       "      <td>2.0</td>\n",
       "    </tr>\n",
       "    <tr>\n",
       "      <th>4416</th>\n",
       "      <td>186.0</td>\n",
       "      <td>688.0</td>\n",
       "      <td>0.0</td>\n",
       "      <td>2845</td>\n",
       "      <td>7553.94</td>\n",
       "      <td>4.0</td>\n",
       "      <td>3113.0</td>\n",
       "      <td>1290.80</td>\n",
       "      <td>2.0</td>\n",
       "      <td>0.0</td>\n",
       "    </tr>\n",
       "    <tr>\n",
       "      <th>9842</th>\n",
       "      <td>97.0</td>\n",
       "      <td>733.0</td>\n",
       "      <td>0.0</td>\n",
       "      <td>6596</td>\n",
       "      <td>5776.13</td>\n",
       "      <td>4.0</td>\n",
       "      <td>3016.0</td>\n",
       "      <td>1312.92</td>\n",
       "      <td>1.0</td>\n",
       "      <td>0.0</td>\n",
       "    </tr>\n",
       "    <tr>\n",
       "      <th>14051</th>\n",
       "      <td>72.0</td>\n",
       "      <td>815.0</td>\n",
       "      <td>0.0</td>\n",
       "      <td>3853</td>\n",
       "      <td>8189.99</td>\n",
       "      <td>2.0</td>\n",
       "      <td>3902.0</td>\n",
       "      <td>2953.48</td>\n",
       "      <td>0.0</td>\n",
       "      <td>1.0</td>\n",
       "    </tr>\n",
       "    <tr>\n",
       "      <th>10751</th>\n",
       "      <td>177.0</td>\n",
       "      <td>248.0</td>\n",
       "      <td>0.0</td>\n",
       "      <td>3667</td>\n",
       "      <td>8113.23</td>\n",
       "      <td>3.0</td>\n",
       "      <td>21.0</td>\n",
       "      <td>63.58</td>\n",
       "      <td>2.0</td>\n",
       "      <td>3.0</td>\n",
       "    </tr>\n",
       "  </tbody>\n",
       "</table>\n",
       "</div>"
      ],
      "text/plain": [
       "       Country  Product  Import_Export  Quantity    Value  Category    Port  \\\n",
       "3003     143.0    332.0            1.0      8860  4364.64       3.0   637.0   \n",
       "4416     186.0    688.0            0.0      2845  7553.94       4.0  3113.0   \n",
       "9842      97.0    733.0            0.0      6596  5776.13       4.0  3016.0   \n",
       "14051     72.0    815.0            0.0      3853  8189.99       2.0  3902.0   \n",
       "10751    177.0    248.0            0.0      3667  8113.23       3.0    21.0   \n",
       "\n",
       "        Weight  Shipping_Method  Payment_Terms  \n",
       "3003    519.34              0.0            2.0  \n",
       "4416   1290.80              2.0            0.0  \n",
       "9842   1312.92              1.0            0.0  \n",
       "14051  2953.48              0.0            1.0  \n",
       "10751    63.58              2.0            3.0  "
      ]
     },
     "execution_count": 266,
     "metadata": {},
     "output_type": "execute_result"
    }
   ],
   "source": [
    "from sklearn.preprocessing import OrdinalEncoder\n",
    "\n",
    "# Define order for ordinal columns\n",
    "JK17_ordinal_categories = [\n",
    "    # ['Import', 'Export'],  # Order for 'Import_Export'\n",
    "    # ['B', 'A']             # Order for 'Grades' (A is superior to B) A will be written as 1 and b will be written as 0\n",
    "]\n",
    "# Initialize OrdinalEncoder for ordinal columns with specified order\n",
    "ordinal_encoder_ordinal = OrdinalEncoder(categories=JK17_ordinal_categories)\n",
    "\n",
    "# Initialize OrdinalEncoder for nominal columns (order does not matter)\n",
    "ordinal_encoder_nominal = OrdinalEncoder()\n",
    "\n",
    "# Make a copy of the DataFrame\n",
    "JK17_sample_data_ordinally_encoded = JK17_sample_data_imputed.copy()\n",
    "\n",
    "# Encode ordinal columns\n",
    "JK17_sample_data_ordinally_encoded[JK17_categorical_ordinal_columns] = ordinal_encoder_ordinal.fit_transform(\n",
    "    JK17_sample_data_ordinally_encoded[JK17_categorical_ordinal_columns].astype(str)\n",
    ")\n",
    "\n",
    "# Encode nominal columns\n",
    "JK17_sample_data_ordinally_encoded[JK17_categorical_nominal_columns] = ordinal_encoder_nominal.fit_transform(\n",
    "    JK17_sample_data_ordinally_encoded[JK17_categorical_nominal_columns].astype(str)\n",
    ")\n",
    "\n",
    "# JK17_display the encoded DataFrame\n",
    "print(\"DataFrame with Encoded Categorical Variables:\")\n",
    "JK17_sample_data_ordinally_encoded.head()"
   ]
  },
  {
   "cell_type": "markdown",
   "metadata": {
    "id": "LOFADEPn_X0Q"
   },
   "source": [
    "## <u>Transformation</u>"
   ]
  },
  {
   "cell_type": "code",
   "execution_count": 268,
   "metadata": {
    "colab": {
     "base_uri": "https://localhost:8080/"
    },
    "id": "Cw2IPoP5QnxR",
    "outputId": "23d09fec-19f0-49de-8d51-e96d1b83521a"
   },
   "outputs": [
    {
     "name": "stdout",
     "output_type": "stream",
     "text": [
      "Transformation Log:\n"
     ]
    },
    {
     "data": {
      "text/html": [
       "<div>\n",
       "<style scoped>\n",
       "    .dataframe tbody tr th:only-of-type {\n",
       "        vertical-align: middle;\n",
       "    }\n",
       "\n",
       "    .dataframe tbody tr th {\n",
       "        vertical-align: top;\n",
       "    }\n",
       "\n",
       "    .dataframe thead th {\n",
       "        text-align: right;\n",
       "    }\n",
       "</style>\n",
       "<table border=\"1\" class=\"dataframe\">\n",
       "  <thead>\n",
       "    <tr style=\"text-align: right;\">\n",
       "      <th></th>\n",
       "      <th>Column Name</th>\n",
       "      <th>Skewness</th>\n",
       "      <th>Kurtosis</th>\n",
       "      <th>Action Taken</th>\n",
       "    </tr>\n",
       "  </thead>\n",
       "  <tbody>\n",
       "    <tr>\n",
       "      <th>0</th>\n",
       "      <td>Quantity</td>\n",
       "      <td>0.018241</td>\n",
       "      <td>-1.185346</td>\n",
       "      <td>Yeo-Johnson Transformation</td>\n",
       "    </tr>\n",
       "    <tr>\n",
       "      <th>1</th>\n",
       "      <td>Value</td>\n",
       "      <td>0.007596</td>\n",
       "      <td>-1.184012</td>\n",
       "      <td>Yeo-Johnson Transformation</td>\n",
       "    </tr>\n",
       "    <tr>\n",
       "      <th>2</th>\n",
       "      <td>Weight</td>\n",
       "      <td>0.018276</td>\n",
       "      <td>-1.213375</td>\n",
       "      <td>Yeo-Johnson Transformation</td>\n",
       "    </tr>\n",
       "  </tbody>\n",
       "</table>\n",
       "</div>"
      ],
      "text/plain": [
       "  Column Name  Skewness  Kurtosis                Action Taken\n",
       "0    Quantity  0.018241 -1.185346  Yeo-Johnson Transformation\n",
       "1       Value  0.007596 -1.184012  Yeo-Johnson Transformation\n",
       "2      Weight  0.018276 -1.213375  Yeo-Johnson Transformation"
      ]
     },
     "execution_count": 268,
     "metadata": {},
     "output_type": "execute_result"
    }
   ],
   "source": [
    "import numpy as np\n",
    "from scipy.stats import boxcox\n",
    "from sklearn.preprocessing import PowerTransformer\n",
    "import pandas as pd\n",
    "\n",
    "# Function to handle transformations based on distribution characteristics\n",
    "def apply_transformations(JK17_sample_data, columns):\n",
    "    # Initialize a list to store transformation logs\n",
    "    JK17_transformation_logs = []\n",
    "\n",
    "    for column in columns:\n",
    "        # Compute JK17_skewness and JK17_kurtosis\n",
    "        JK17_skewness = JK17_sample_data[column].skew()\n",
    "        JK17_kurtosis = JK17_sample_data[column].kurt()\n",
    "        JK17_action = \"None\"  # Default JK17_action\n",
    "\n",
    "        # Handle Right Skew (Positive Skew)\n",
    "        if JK17_skewness > 1:\n",
    "            JK17_action = \"Log Transformation\"\n",
    "            JK17_sample_data[column] = np.log1p(JK17_sample_data[column])\n",
    "\n",
    "        # Handle Left Skew (Negative Skew)\n",
    "        elif JK17_skewness < -1:\n",
    "            JK17_action = \"Reflect and Log Transformation\"\n",
    "            JK17_sample_data[column] = np.log1p(JK17_sample_data[column].max() - JK17_sample_data[column])\n",
    "\n",
    "        # Handle High Kurtosis (Heavy Tails)\n",
    "        if JK17_kurtosis > 3:\n",
    "            try:\n",
    "                JK17_action = \"Box-Cox Transformation\"\n",
    "                JK17_sample_data[column], _ = boxcox(JK17_sample_data[column].clip(lower=1))\n",
    "            except ValueError:\n",
    "                JK17_action = \"Box-Cox Failed, Applied Yeo-Johnson\"\n",
    "                transformer = PowerTransformer(method='yeo-johnson')\n",
    "                JK17_sample_data[column] = transformer.fit_transform(JK17_sample_data[[column]])\n",
    "\n",
    "        # Handle Low Kurtosis (Light Tails)\n",
    "        elif JK17_kurtosis < 3 and JK17_action == \"None\":\n",
    "            JK17_action = \"Yeo-Johnson Transformation\"\n",
    "            transformer = PowerTransformer(method='yeo-johnson')\n",
    "            JK17_sample_data[column] = transformer.fit_transform(JK17_sample_data[[column]])\n",
    "\n",
    "        # Append the log entry\n",
    "        JK17_transformation_logs.append({\n",
    "            'Column Name': column,\n",
    "            'Skewness': JK17_skewness,\n",
    "            'Kurtosis': JK17_kurtosis,\n",
    "            'Action Taken': JK17_action\n",
    "        })\n",
    "\n",
    "    # Create a DataFrame for transformation logs\n",
    "    transformation_log_JK17_df = pd.DataFrame(JK17_transformation_logs)\n",
    "    return JK17_sample_data, transformation_log_JK17_df\n",
    "\n",
    "# Example usage with JK17_sample_data_encoded\n",
    "JK17_sample_data_encoded = JK17_sample_data_ordinally_encoded.copy()\n",
    "JK17_sample_data_encoded, JK17_transformation_logs = apply_transformations(JK17_sample_data_encoded, JK17_non_categorical_columns)\n",
    "\n",
    "# JK17_display the transformation log DataFrame\n",
    "print(\"Transformation Log:\")\n",
    "JK17_transformation_logs"
   ]
  },
  {
   "cell_type": "code",
   "execution_count": 146,
   "metadata": {
    "colab": {
     "base_uri": "https://localhost:8080/"
    },
    "id": "Iw0Z1A-kWvcY",
    "outputId": "25636632-7556-4d0c-b189-ee430eb1754d"
   },
   "outputs": [
    {
     "data": {
      "text/html": [
       "<div>\n",
       "<style scoped>\n",
       "    .dataframe tbody tr th:only-of-type {\n",
       "        vertical-align: middle;\n",
       "    }\n",
       "\n",
       "    .dataframe tbody tr th {\n",
       "        vertical-align: top;\n",
       "    }\n",
       "\n",
       "    .dataframe thead th {\n",
       "        text-align: right;\n",
       "    }\n",
       "</style>\n",
       "<table border=\"1\" class=\"dataframe\">\n",
       "  <thead>\n",
       "    <tr style=\"text-align: right;\">\n",
       "      <th></th>\n",
       "      <th>Country</th>\n",
       "      <th>Product</th>\n",
       "      <th>Import_Export</th>\n",
       "      <th>Quantity</th>\n",
       "      <th>Value</th>\n",
       "      <th>Category</th>\n",
       "      <th>Port</th>\n",
       "      <th>Weight</th>\n",
       "      <th>Shipping_Method</th>\n",
       "      <th>Payment_Terms</th>\n",
       "    </tr>\n",
       "  </thead>\n",
       "  <tbody>\n",
       "    <tr>\n",
       "      <th>3003</th>\n",
       "      <td>143.0</td>\n",
       "      <td>332.0</td>\n",
       "      <td>1.0</td>\n",
       "      <td>1.262237</td>\n",
       "      <td>-0.131413</td>\n",
       "      <td>3.0</td>\n",
       "      <td>637.0</td>\n",
       "      <td>-1.446892</td>\n",
       "      <td>0.0</td>\n",
       "      <td>2.0</td>\n",
       "    </tr>\n",
       "    <tr>\n",
       "      <th>4416</th>\n",
       "      <td>186.0</td>\n",
       "      <td>688.0</td>\n",
       "      <td>0.0</td>\n",
       "      <td>-0.656274</td>\n",
       "      <td>0.882813</td>\n",
       "      <td>4.0</td>\n",
       "      <td>3113.0</td>\n",
       "      <td>-0.758348</td>\n",
       "      <td>2.0</td>\n",
       "      <td>0.0</td>\n",
       "    </tr>\n",
       "    <tr>\n",
       "      <th>9842</th>\n",
       "      <td>97.0</td>\n",
       "      <td>733.0</td>\n",
       "      <td>0.0</td>\n",
       "      <td>0.608337</td>\n",
       "      <td>0.336670</td>\n",
       "      <td>4.0</td>\n",
       "      <td>3016.0</td>\n",
       "      <td>-0.740875</td>\n",
       "      <td>1.0</td>\n",
       "      <td>0.0</td>\n",
       "    </tr>\n",
       "    <tr>\n",
       "      <th>14051</th>\n",
       "      <td>72.0</td>\n",
       "      <td>815.0</td>\n",
       "      <td>0.0</td>\n",
       "      <td>-0.283670</td>\n",
       "      <td>1.069148</td>\n",
       "      <td>2.0</td>\n",
       "      <td>3902.0</td>\n",
       "      <td>0.387484</td>\n",
       "      <td>0.0</td>\n",
       "      <td>1.0</td>\n",
       "    </tr>\n",
       "    <tr>\n",
       "      <th>10751</th>\n",
       "      <td>177.0</td>\n",
       "      <td>248.0</td>\n",
       "      <td>0.0</td>\n",
       "      <td>-0.350023</td>\n",
       "      <td>1.046881</td>\n",
       "      <td>3.0</td>\n",
       "      <td>21.0</td>\n",
       "      <td>-2.042020</td>\n",
       "      <td>2.0</td>\n",
       "      <td>3.0</td>\n",
       "    </tr>\n",
       "  </tbody>\n",
       "</table>\n",
       "</div>"
      ],
      "text/plain": [
       "       Country  Product  Import_Export  Quantity     Value  Category    Port  \\\n",
       "3003     143.0    332.0            1.0  1.262237 -0.131413       3.0   637.0   \n",
       "4416     186.0    688.0            0.0 -0.656274  0.882813       4.0  3113.0   \n",
       "9842      97.0    733.0            0.0  0.608337  0.336670       4.0  3016.0   \n",
       "14051     72.0    815.0            0.0 -0.283670  1.069148       2.0  3902.0   \n",
       "10751    177.0    248.0            0.0 -0.350023  1.046881       3.0    21.0   \n",
       "\n",
       "         Weight  Shipping_Method  Payment_Terms  \n",
       "3003  -1.446892              0.0            2.0  \n",
       "4416  -0.758348              2.0            0.0  \n",
       "9842  -0.740875              1.0            0.0  \n",
       "14051  0.387484              0.0            1.0  \n",
       "10751 -2.042020              2.0            3.0  "
      ]
     },
     "execution_count": 146,
     "metadata": {},
     "output_type": "execute_result"
    }
   ],
   "source": [
    "# Code for JK17_displaying transformed datset\n",
    "JK17_sample_data_encoded.head(5)"
   ]
  },
  {
   "cell_type": "markdown",
   "metadata": {
    "id": "3rNzZoE4lhLs"
   },
   "source": [
    "## <u>Scaling</u>"
   ]
  },
  {
   "cell_type": "code",
   "execution_count": 270,
   "metadata": {
    "id": "jggL5cIYloxG"
   },
   "outputs": [],
   "source": [
    "import pandas as pd\n",
    "from sklearn.preprocessing import StandardScaler, MinMaxScaler\n",
    "\n",
    "def scale_dataframe(JK17_df, method='standard'):\n",
    "    \"\"\"\n",
    "    Scales numeric columns of the input DataFrame, excluding binary columns.\n",
    "\n",
    "    Parameters:\n",
    "        JK17_df (pd.DataFrame): Input DataFrame to scale.\n",
    "        method (str): Scaling method, either 'standard' (default) for StandardScaler or 'minmax' for MinMaxScaler.\n",
    "\n",
    "    Returns:\n",
    "        pd.DataFrame: Scaled DataFrame with the same column names as the input.\n",
    "    \"\"\"\n",
    "    if not isinstance(JK17_df, pd.DataFrame):\n",
    "        raise ValueError(\"Input must be a pandas DataFrame.\")\n",
    "\n",
    "    # Select numeric columns only\n",
    "    JK17_numeric_cols = JK17_df.select_dtypes(include=['float64', 'int64']).columns\n",
    "\n",
    "    # Exclude binary columns (those with only two unique values)\n",
    "    JK17_non_binary_cols = [col for col in JK17_numeric_cols if JK17_df[col].nunique() > 2]\n",
    "\n",
    "    if method == 'standard':\n",
    "        scaler = StandardScaler()\n",
    "    elif method == 'minmax':\n",
    "        scaler = MinMaxScaler()\n",
    "    else:\n",
    "        raise ValueError(\"Invalid method. Use 'standard' or 'minmax'.\")\n",
    "\n",
    "    # Scale non-binary numeric columns\n",
    "    JK17_df_scaled = JK17_df.copy()\n",
    "    JK17_df_scaled[JK17_non_binary_cols] = scaler.fit_transform(JK17_df[JK17_non_binary_cols])\n",
    "\n",
    "    return JK17_df_scaled\n",
    "\n",
    "JK17_sample_data_transformed = scale_dataframe(JK17_sample_data_encoded)"
   ]
  },
  {
   "cell_type": "markdown",
   "metadata": {
    "id": "-c0vzp-EnMXR"
   },
   "source": [
    "# **<u>Unsupervised Machine learning</u>**"
   ]
  },
  {
   "cell_type": "code",
   "execution_count": 272,
   "metadata": {
    "id": "7ftxI02aKvEt"
   },
   "outputs": [],
   "source": [
    "from sklearn.cluster import KMeans\n",
    "from sklearn.preprocessing import StandardScaler\n",
    "import matplotlib.pyplot as plt"
   ]
  },
  {
   "cell_type": "markdown",
   "metadata": {
    "id": "zLQrAG0mBeZ2"
   },
   "source": [
    "## <u>KMeans Clustor Analysis</u>"
   ]
  },
  {
   "cell_type": "code",
   "execution_count": 274,
   "metadata": {
    "id": "ya3D6NhOKvm8"
   },
   "outputs": [],
   "source": [
    "JK17_sample_data_clustor = JK17_sample_data_encoded.copy()\n",
    "from sklearn.metrics import silhouette_score\n",
    "\n",
    "JK17_silhouette_scores = []\n",
    "JK17_k_values = range(2, 6)  # Silhouette score requires at least 2 clusters\n",
    "\n",
    "for JK17_k in JK17_k_values:\n",
    "    JK17_kmeans = KMeans(n_clusters=JK17_k, random_state=55017, n_init=10)\n",
    "    JK17_cluster_labels = JK17_kmeans.fit_predict(JK17_sample_data_clustor[JK17_categorical_columns + JK17_non_categorical_columns])\n",
    "    JK17_silhouette_scores.append(silhouette_score(JK17_sample_data_clustor[JK17_categorical_columns + JK17_non_categorical_columns], JK17_cluster_labels))"
   ]
  },
  {
   "cell_type": "markdown",
   "metadata": {
    "id": "Lcd9-pVWBsa-"
   },
   "source": [
    "## <u>Elbow Plot</u>"
   ]
  },
  {
   "cell_type": "code",
   "execution_count": 275,
   "metadata": {
    "colab": {
     "base_uri": "https://localhost:8080/"
    },
    "id": "zX30OmIyLjpP",
    "outputId": "a1b5f2b2-8d3e-426b-9b57-fe64b934a54d"
   },
   "outputs": [
    {
     "data": {
      "image/png": "[encoded data removed]",
      "text/plain": [
       "<Figure size 1000x600 with 1 Axes>"
      ]
     },
     "metadata": {},
     "output_type": "display_data"
    }
   ],
   "source": [
    "# Plot the Silhouette Scores\n",
    "plt.figure(figsize=(10, 6))\n",
    "plt.plot(JK17_k_values, JK17_silhouette_scores, marker='o')\n",
    "plt.title('Silhouette Scores for Determining Optimal Clusters')\n",
    "plt.xlabel('Number of Clusters (k)')\n",
    "plt.ylabel('Silhouette Score')\n",
    "plt.grid()\n",
    "plt.show()"
   ]
  },
  {
   "cell_type": "markdown",
   "metadata": {
    "id": "d-8ALf89nQZZ"
   },
   "source": [
    "# **<u>Supervised Machine learning**</u>"
   ]
  },
  {
   "cell_type": "markdown",
   "metadata": {
    "id": "UaFy3CxZBzTp"
   },
   "source": [
    "## <u>Dependent/Independent variables<u>"
   ]
  },
  {
   "cell_type": "markdown",
   "metadata": {
    "id": "pQJctu_ICD-7"
   },
   "source": [
    "### Function to define Independent Variables"
   ]
  },
  {
   "cell_type": "code",
   "execution_count": 278,
   "metadata": {
    "id": "oR57j0RfYpbC"
   },
   "outputs": [],
   "source": [
    "def prepare_data(JK17_y, JK17_cat_vars, JK17_non_cat_vars):\n",
    "\n",
    "    # Combine categorical and non-categorical variable lists\n",
    "    JK17_all_vars = JK17_cat_vars + JK17_non_cat_vars\n",
    "\n",
    "    # Ensure `y` is a list for consistency\n",
    "    if isinstance(JK17_y, str):\n",
    "        JK17_y = [JK17_y]\n",
    "\n",
    "    # Calculate the feature set (x) as the difference between JK17_all_vars and y\n",
    "    JK17_x = [JK17_var for JK17_var in JK17_all_vars if JK17_var not in JK17_y]\n",
    "\n",
    "    return JK17_y, JK17_x"
   ]
  },
  {
   "cell_type": "markdown",
   "metadata": {
    "id": "dHGA4QiaCI2p"
   },
   "source": [
    "### Defining Dependent Variable"
   ]
  },
  {
   "cell_type": "code",
   "execution_count": 280,
   "metadata": {
    "colab": {
     "base_uri": "https://localhost:8080/"
    },
    "id": "UIMrNabZyyLf",
    "outputId": "490603cf-0113-4346-b92a-95f7e7f18dc0"
   },
   "outputs": [
    {
     "name": "stdout",
     "output_type": "stream",
     "text": [
      "Target (y): ['Import_Export']\n",
      "Feature Set (x): ['Country', 'Product', 'Category', 'Port', 'Shipping_Method', 'Payment_Terms', 'Quantity', 'Value', 'Weight']\n"
     ]
    }
   ],
   "source": [
    "JK17_y = ['Import_Export']  # Target variable defined manually\n",
    "\n",
    "JK17_y_columns, JK17_x_columns = prepare_data(JK17_y, JK17_categorical_columns, JK17_non_categorical_columns)\n",
    "\n",
    "print(\"Target (y):\", JK17_y_columns)\n",
    "print(\"Feature Set (x):\", JK17_x_columns)"
   ]
  },
  {
   "cell_type": "markdown",
   "metadata": {
    "id": "Jp2JPI4LCNOB"
   },
   "source": [
    "## <u>Train Test Split</u>"
   ]
  },
  {
   "cell_type": "code",
   "execution_count": 282,
   "metadata": {
    "id": "6kUJc9_HeV9Q"
   },
   "outputs": [],
   "source": [
    "from sklearn.model_selection import train_test_split\n",
    "\n",
    "JK17_sample_data_train_test_split = JK17_sample_data_transformed.copy()\n",
    "\n",
    "# Extract the target column (as Series)\n",
    "JK17_y_data = JK17_sample_data_train_test_split[JK17_y_columns[0]]  # y is a list containing the target column name\n",
    "\n",
    "# Extract the features (as DataFrame)\n",
    "JK17_x_data = JK17_sample_data_train_test_split[JK17_x_columns]  # x is a list of feature column names\n",
    "\n",
    "# Perform the train-test split\n",
    "JK17_x_train, JK17_x_test, JK17_y_train, JK17_y_test = train_test_split(\n",
    "    JK17_x_data, JK17_y_data, test_size=0.25, random_state=55017, stratify=JK17_y_data\n",
    ")"
   ]
  },
  {
   "cell_type": "markdown",
   "metadata": {
    "id": "ms1QBRlXCxQh"
   },
   "source": [
    "### Train test split verification"
   ]
  },
  {
   "cell_type": "code",
   "execution_count": 284,
   "metadata": {
    "colab": {
     "base_uri": "https://localhost:8080/",
     "height": 363
    },
    "id": "kG0O_CVbg3aW",
    "outputId": "36a1c5d3-ee65-4596-988b-3fe257fe912f"
   },
   "outputs": [
    {
     "data": {
      "text/html": [
       "<div>\n",
       "<style scoped>\n",
       "    .dataframe tbody tr th:only-of-type {\n",
       "        vertical-align: middle;\n",
       "    }\n",
       "\n",
       "    .dataframe tbody tr th {\n",
       "        vertical-align: top;\n",
       "    }\n",
       "\n",
       "    .dataframe thead th {\n",
       "        text-align: right;\n",
       "    }\n",
       "</style>\n",
       "<table border=\"1\" class=\"dataframe\">\n",
       "  <thead>\n",
       "    <tr style=\"text-align: right;\">\n",
       "      <th></th>\n",
       "      <th>JK17_x_train</th>\n",
       "      <th>JK17_x_test</th>\n",
       "      <th>JK17_y_train</th>\n",
       "      <th>JK17_y_test</th>\n",
       "    </tr>\n",
       "  </thead>\n",
       "  <tbody>\n",
       "    <tr>\n",
       "      <th>Category</th>\n",
       "      <td>5.0</td>\n",
       "      <td>5.0</td>\n",
       "      <td>NaN</td>\n",
       "      <td>NaN</td>\n",
       "    </tr>\n",
       "    <tr>\n",
       "      <th>Country</th>\n",
       "      <td>243.0</td>\n",
       "      <td>243.0</td>\n",
       "      <td>NaN</td>\n",
       "      <td>NaN</td>\n",
       "    </tr>\n",
       "    <tr>\n",
       "      <th>Import_Export</th>\n",
       "      <td>NaN</td>\n",
       "      <td>NaN</td>\n",
       "      <td>2.0</td>\n",
       "      <td>2.0</td>\n",
       "    </tr>\n",
       "    <tr>\n",
       "      <th>Payment_Terms</th>\n",
       "      <td>4.0</td>\n",
       "      <td>4.0</td>\n",
       "      <td>NaN</td>\n",
       "      <td>NaN</td>\n",
       "    </tr>\n",
       "    <tr>\n",
       "      <th>Port</th>\n",
       "      <td>3313.0</td>\n",
       "      <td>1198.0</td>\n",
       "      <td>NaN</td>\n",
       "      <td>NaN</td>\n",
       "    </tr>\n",
       "    <tr>\n",
       "      <th>Product</th>\n",
       "      <td>950.0</td>\n",
       "      <td>703.0</td>\n",
       "      <td>NaN</td>\n",
       "      <td>NaN</td>\n",
       "    </tr>\n",
       "    <tr>\n",
       "      <th>Quantity</th>\n",
       "      <td>3102.0</td>\n",
       "      <td>1171.0</td>\n",
       "      <td>NaN</td>\n",
       "      <td>NaN</td>\n",
       "    </tr>\n",
       "    <tr>\n",
       "      <th>Shipping_Method</th>\n",
       "      <td>3.0</td>\n",
       "      <td>3.0</td>\n",
       "      <td>NaN</td>\n",
       "      <td>NaN</td>\n",
       "    </tr>\n",
       "    <tr>\n",
       "      <th>Value</th>\n",
       "      <td>3740.0</td>\n",
       "      <td>1250.0</td>\n",
       "      <td>NaN</td>\n",
       "      <td>NaN</td>\n",
       "    </tr>\n",
       "    <tr>\n",
       "      <th>Weight</th>\n",
       "      <td>3733.0</td>\n",
       "      <td>1250.0</td>\n",
       "      <td>NaN</td>\n",
       "      <td>NaN</td>\n",
       "    </tr>\n",
       "  </tbody>\n",
       "</table>\n",
       "</div>"
      ],
      "text/plain": [
       "                 JK17_x_train  JK17_x_test  JK17_y_train  JK17_y_test\n",
       "Category                  5.0          5.0           NaN          NaN\n",
       "Country                 243.0        243.0           NaN          NaN\n",
       "Import_Export             NaN          NaN           2.0          2.0\n",
       "Payment_Terms             4.0          4.0           NaN          NaN\n",
       "Port                   3313.0       1198.0           NaN          NaN\n",
       "Product                 950.0        703.0           NaN          NaN\n",
       "Quantity               3102.0       1171.0           NaN          NaN\n",
       "Shipping_Method           3.0          3.0           NaN          NaN\n",
       "Value                  3740.0       1250.0           NaN          NaN\n",
       "Weight                 3733.0       1250.0           NaN          NaN"
      ]
     },
     "execution_count": 284,
     "metadata": {},
     "output_type": "execute_result"
    }
   ],
   "source": [
    "import pandas as pd\n",
    "\n",
    "# Compute unique value counts for JK17_x_train, JK17_x_test, JK17_y_train, and JK17_y_test\n",
    "JK17_unique_values_JK17_x_train = JK17_x_train.nunique()\n",
    "JK17_unique_values_JK17_x_test = JK17_x_test.nunique()\n",
    "JK17_unique_values_JK17_y_train = pd.Series([JK17_y_train.nunique()], index=JK17_y)\n",
    "JK17_unique_values_JK17_y_test = pd.Series([JK17_y_test.nunique()], index=JK17_y)\n",
    "\n",
    "# Combine the results into a single DataFrame\n",
    "JK17_unique_values_JK17_df = pd.DataFrame({\n",
    "    'JK17_x_train': JK17_unique_values_JK17_x_train,\n",
    "    'JK17_x_test': JK17_unique_values_JK17_x_test,\n",
    "    'JK17_y_train': JK17_unique_values_JK17_y_train,\n",
    "    'JK17_y_test': JK17_unique_values_JK17_y_test\n",
    "})\n",
    "\n",
    "# JK17_display the DataFrame\n",
    "JK17_unique_values_JK17_df"
   ]
  },
  {
   "cell_type": "markdown",
   "metadata": {
    "id": "awIjtkX0C4gL"
   },
   "source": [
    "## <u>Logistic Regression</u>"
   ]
  },
  {
   "cell_type": "markdown",
   "metadata": {
    "id": "WJyv8j6oC64X"
   },
   "source": [
    "### Trainiing"
   ]
  },
  {
   "cell_type": "code",
   "execution_count": 286,
   "metadata": {
    "id": "wpqg9XwlivoF"
   },
   "outputs": [],
   "source": [
    "from sklearn.linear_model import LogisticRegression\n",
    "# Train a logistic regression model\n",
    "JK17_logistic_model = LogisticRegression(max_iter=1000)\n",
    "JK17_logistic_model.fit(JK17_x_train, JK17_y_train)\n",
    "\n",
    "# Predict target values\n",
    "JK17_y_pred = JK17_logistic_model.predict(JK17_x_test)"
   ]
  },
  {
   "cell_type": "markdown",
   "metadata": {
    "id": "SASHIqWeC_JP"
   },
   "source": [
    "### Odds & probablity"
   ]
  },
  {
   "cell_type": "code",
   "execution_count": 288,
   "metadata": {
    "id": "yRCgtcjfi6TC"
   },
   "outputs": [],
   "source": [
    "# Intercept and Coeffcients\n",
    "JK17_intercept = JK17_logistic_model.intercept_[0]  # b0\n",
    "JK17_coefficients = JK17_logistic_model.coef_[0]   # b1, b2, ...\n",
    "\n",
    "JK17_y_proba = JK17_logistic_model.predict_proba(JK17_x_test)[:, 1]  # Probability of class 1\n",
    "\n",
    "# calculating odds\n",
    "JK17_odds = JK17_y_proba / (1 - JK17_y_proba)\n",
    "\n",
    "# calculating odd ratios\n",
    "JK17_odds_ratios = np.exp(JK17_coefficients)\n",
    "\n",
    "#calculating log_odds\n",
    "JK17_log_odds = JK17_intercept + np.dot(JK17_x_test, JK17_coefficients)"
   ]
  },
  {
   "cell_type": "markdown",
   "metadata": {
    "id": "1sWR5T3eDObc"
   },
   "source": [
    "### Model Result"
   ]
  },
  {
   "cell_type": "code",
   "execution_count": 290,
   "metadata": {
    "colab": {
     "base_uri": "https://localhost:8080/"
    },
    "id": "3gqMqLz4NgyV",
    "outputId": "d3f8de7c-57a6-4add-d374-1e49801e44b7"
   },
   "outputs": [
    {
     "name": "stdout",
     "output_type": "stream",
     "text": [
      "Optimization terminated successfully.\n",
      "         Current function value: 0.691823\n",
      "         Iterations 3\n",
      "                           Logit Regression Results                           \n",
      "==============================================================================\n",
      "Dep. Variable:          Import_Export   No. Observations:                 3750\n",
      "Model:                          Logit   Df Residuals:                     3740\n",
      "Method:                           MLE   Df Model:                            9\n",
      "Date:                Mon, 06 Jan 2025   Pseudo R-squ.:                0.001864\n",
      "Time:                        00:56:02   Log-Likelihood:                -2594.3\n",
      "converged:                       True   LL-Null:                       -2599.2\n",
      "Covariance Type:            nonrobust   LLR p-value:                    0.3761\n",
      "===================================================================================\n",
      "                      coef    std err          z      P>|z|      [0.025      0.975]\n",
      "-----------------------------------------------------------------------------------\n",
      "const               0.0148      0.033      0.453      0.651      -0.049       0.079\n",
      "Country             0.0262      0.033      0.801      0.423      -0.038       0.090\n",
      "Product             0.0224      0.033      0.684      0.494      -0.042       0.087\n",
      "Category            0.0156      0.033      0.480      0.631      -0.048       0.079\n",
      "Port               -0.0547      0.033     -1.674      0.094      -0.119       0.009\n",
      "Shipping_Method    -0.0498      0.033     -1.527      0.127      -0.114       0.014\n",
      "Payment_Terms       0.0498      0.033      1.523      0.128      -0.014       0.114\n",
      "Quantity            0.0270      0.033      0.822      0.411      -0.037       0.091\n",
      "Value              -0.0167      0.033     -0.509      0.611      -0.081       0.048\n",
      "Weight             -0.0105      0.033     -0.322      0.747      -0.075       0.053\n",
      "===================================================================================\n"
     ]
    }
   ],
   "source": [
    "import statsmodels.api as sm\n",
    "\n",
    "JK17_x_train_with_const = sm.add_constant(JK17_x_train)  # Add intercept term\n",
    "JK17_logit_model = sm.Logit(JK17_y_train, JK17_x_train_with_const)\n",
    "JK17_result = JK17_logit_model.fit()\n",
    "\n",
    "print(JK17_result.summary())  # JK17_displays coefficients, p-values, and confidence intervals"
   ]
  },
  {
   "cell_type": "code",
   "execution_count": 292,
   "metadata": {
    "colab": {
     "base_uri": "https://localhost:8080/"
    },
    "id": "_P83iE7eNr8R",
    "outputId": "5db0135a-7b13-4f84-d4f3-e2ef44ad980f"
   },
   "outputs": [
    {
     "name": "stdout",
     "output_type": "stream",
     "text": [
      "Residual Deviance: 5188.673411797817\n"
     ]
    }
   ],
   "source": [
    "import numpy as np\n",
    "\n",
    "# Predicted probabilities\n",
    "JK17_y_pred_proba = JK17_result.predict()\n",
    "\n",
    "# True labels\n",
    "JK17_y_true = JK17_y_train\n",
    "\n",
    "# Deviance calculation\n",
    "JK17_deviance = -2 * np.sum(\n",
    "    JK17_y_true * np.log(JK17_y_pred_proba) + (1 - JK17_y_true) * np.log(1 - JK17_y_pred_proba)\n",
    ")\n",
    "print(f\"Residual Deviance: {JK17_deviance}\")"
   ]
  },
  {
   "cell_type": "code",
   "execution_count": 294,
   "metadata": {
    "colab": {
     "base_uri": "https://localhost:8080/"
    },
    "id": "58rjvQToOQwm",
    "outputId": "c729f95e-0d5a-4e47-9536-7184cfafe98c"
   },
   "outputs": [
    {
     "name": "stdout",
     "output_type": "stream",
     "text": [
      "AIC: 5208.673411797816\n"
     ]
    }
   ],
   "source": [
    "JK17_k = len(JK17_result.params)  # Number of parameters (coefficients + intercept)\n",
    "JK17_log_likelihood = JK17_result.llf  # Log-likelihood of the model\n",
    "JK17_aic = 2 * JK17_k - 2 * JK17_log_likelihood\n",
    "print(f\"AIC: {JK17_aic}\")"
   ]
  },
  {
   "cell_type": "markdown",
   "metadata": {
    "id": "eDerOw3sDXxc"
   },
   "source": [
    "### Confusion Matrix"
   ]
  },
  {
   "cell_type": "code",
   "execution_count": 296,
   "metadata": {
    "colab": {
     "base_uri": "https://localhost:8080/",
     "height": 467
    },
    "id": "Kj-58_wCPmAV",
    "outputId": "3b3e0e12-9d82-42f9-d645-958b11d1b7dc"
   },
   "outputs": [
    {
     "data": {
      "text/plain": [
       "<sklearn.metrics._plot.confusion_matrix.ConfusionMatrixDisplay at 0x1edc99dcbf0>"
      ]
     },
     "execution_count": 296,
     "metadata": {},
     "output_type": "execute_result"
    },
    {
     "data": {
      "image/png": "[encoded data removed]",
      "text/plain": [
       "<Figure size 640x480 with 2 Axes>"
      ]
     },
     "metadata": {},
     "output_type": "display_data"
    }
   ],
   "source": [
    "from sklearn.metrics import confusion_matrix, ConfusionMatrixDisplay\n",
    "from sklearn.linear_model import LogisticRegression\n",
    "from sklearn.model_selection import train_test_split\n",
    "\n",
    "# Compute the confusion matrix\n",
    "JK17_cm= confusion_matrix(JK17_y_test, JK17_y_pred)\n",
    "\n",
    "# JK17_display the confusion matrix\n",
    "JK17_disp = ConfusionMatrixDisplay(confusion_matrix=JK17_cm, display_labels=JK17_logistic_model.classes_)\n",
    "JK17_disp.plot(cmap=\"Blues\")"
   ]
  },
  {
   "cell_type": "markdown",
   "metadata": {
    "id": "nbfJvR5IDgNk"
   },
   "source": [
    "### Metrics"
   ]
  },
  {
   "cell_type": "code",
   "execution_count": 300,
   "metadata": {
    "colab": {
     "base_uri": "https://localhost:8080/",
     "height": 318
    },
    "id": "uaRq6vg-S2zV",
    "outputId": "11914e01-a8c2-4367-fcee-43fa9f017e6b"
   },
   "outputs": [
    {
     "name": "stdout",
     "output_type": "stream",
     "text": [
      "Performance Metrics:\n"
     ]
    },
    {
     "data": {
      "text/html": [
       "<div>\n",
       "<style scoped>\n",
       "    .dataframe tbody tr th:only-of-type {\n",
       "        vertical-align: middle;\n",
       "    }\n",
       "\n",
       "    .dataframe tbody tr th {\n",
       "        vertical-align: top;\n",
       "    }\n",
       "\n",
       "    .dataframe thead th {\n",
       "        text-align: right;\n",
       "    }\n",
       "</style>\n",
       "<table border=\"1\" class=\"dataframe\">\n",
       "  <thead>\n",
       "    <tr style=\"text-align: right;\">\n",
       "      <th></th>\n",
       "      <th>Value</th>\n",
       "    </tr>\n",
       "  </thead>\n",
       "  <tbody>\n",
       "    <tr>\n",
       "      <th>sensitivity (TPR)</th>\n",
       "      <td>0.557143</td>\n",
       "    </tr>\n",
       "    <tr>\n",
       "      <th>specificity (TNR)</th>\n",
       "      <td>0.457327</td>\n",
       "    </tr>\n",
       "    <tr>\n",
       "      <th>Miss Rate (FNR)</th>\n",
       "      <td>0.442857</td>\n",
       "    </tr>\n",
       "    <tr>\n",
       "      <th>fallout (FPR)</th>\n",
       "      <td>0.542673</td>\n",
       "    </tr>\n",
       "    <tr>\n",
       "      <th>accuracy</th>\n",
       "      <td>0.510174</td>\n",
       "    </tr>\n",
       "    <tr>\n",
       "      <th>precision</th>\n",
       "      <td>0.510174</td>\n",
       "    </tr>\n",
       "    <tr>\n",
       "      <th>F1 Score</th>\n",
       "      <td>0.532625</td>\n",
       "    </tr>\n",
       "    <tr>\n",
       "      <th>AUC</th>\n",
       "      <td>0.508251</td>\n",
       "    </tr>\n",
       "  </tbody>\n",
       "</table>\n",
       "</div>"
      ],
      "text/plain": [
       "                      Value\n",
       "sensitivity (TPR)  0.557143\n",
       "specificity (TNR)  0.457327\n",
       "Miss Rate (FNR)    0.442857\n",
       "fallout (FPR)      0.542673\n",
       "accuracy           0.510174\n",
       "precision          0.510174\n",
       "F1 Score           0.532625\n",
       "AUC                0.508251"
      ]
     },
     "execution_count": 300,
     "metadata": {},
     "output_type": "execute_result"
    }
   ],
   "source": [
    "from sklearn.metrics import classification_report, roc_auc_score\n",
    "\n",
    "# Extract TP, FP, FN, TN from the confusion matrix\n",
    "tn, fp, fn, tp = JK17_cm.ravel()\n",
    "\n",
    "# JK17_sensitivity / Recall / True Positive Rate (TPR)\n",
    "JK17_sensitivity = tp / (tp + fn)\n",
    "\n",
    "# JK17_specificity / True Negative Rate (TNR)\n",
    "JK17_specificity = tn / (tn + fp)\n",
    "\n",
    "# Miss Rate / False Negative Rate (FNR)\n",
    "JK17_miss_rate = fn / (fn + tp)\n",
    "\n",
    "# JK17_fallout / False Positive Rate (FPR)\n",
    "JK17_fallout = fp / (fp + tn)\n",
    "\n",
    "# JK17_accuracy\n",
    "JK17_accuracy = (tp + tn) / (tp + tn + fp + fn)\n",
    "\n",
    "# JK17_precisionin\n",
    "JK17_precision= tp / (tp + fp)\n",
    "\n",
    "# F1 Score\n",
    "JK17_f1_score = (2 * JK17_precision * JK17_sensitivity) / (JK17_precision + JK17_sensitivity)\n",
    "\n",
    "# Area Under the ROC Curve (AUC)\n",
    "JK17_auc = roc_auc_score(JK17_y_test, JK17_logistic_model.predict_proba(JK17_x_test)[:, 1])\n",
    "\n",
    "# JK17_display the metrics\n",
    "metrics = {\n",
    "    \"sensitivity (TPR)\": JK17_sensitivity,\n",
    "    \"specificity (TNR)\": JK17_specificity,\n",
    "    \"Miss Rate (FNR)\": JK17_miss_rate,\n",
    "    \"fallout (FPR)\": JK17_fallout,\n",
    "    \"accuracy\": JK17_precision,\n",
    "    \"precision\": JK17_precision,\n",
    "    \"F1 Score\": JK17_f1_score,\n",
    "    \"AUC\": JK17_auc\n",
    "}\n",
    "\n",
    "# Convert metrics to a DataFrame for better visualization\n",
    "import pandas as pd\n",
    "JK17_metrics_df = pd.DataFrame(metrics, index=[\"Value\"]).transpose()\n",
    "\n",
    "# JK17_display the metrics DataFrame\n",
    "print(\"Performance Metrics:\")\n",
    "JK17_metrics_df"
   ]
  },
  {
   "cell_type": "markdown",
   "metadata": {
    "id": "r1MwmfGUDitf"
   },
   "source": [
    "## <u>Decision Tree</u>"
   ]
  },
  {
   "cell_type": "markdown",
   "metadata": {
    "id": "ch9sxvMxDoGF"
   },
   "source": [
    "### Training & accuracy result"
   ]
  },
  {
   "cell_type": "code",
   "execution_count": 302,
   "metadata": {
    "colab": {
     "base_uri": "https://localhost:8080/"
    },
    "id": "gN1QaZvAhQ09",
    "outputId": "ad98183a-6bdb-4771-fe73-f02a3d409789"
   },
   "outputs": [
    {
     "name": "stdout",
     "output_type": "stream",
     "text": [
      "Cross-validation scores per fold:\n",
      "Fold 1: JK17_accuracy = 0.5035\n",
      "Fold 2: JK17_accuracy = 0.5110\n",
      "Fold 3: JK17_accuracy = 0.5010\n",
      "Fold 4: JK17_accuracy = 0.5240\n",
      "Fold 5: JK17_accuracy = 0.5010\n",
      "\n",
      "Mean JK17_accuracy: 0.5081\n"
     ]
    }
   ],
   "source": [
    "from sklearn.model_selection import KFold, cross_val_score\n",
    "from sklearn.tree import DecisionTreeClassifier\n",
    "\n",
    "# Define Random Forest model\n",
    "model = DecisionTreeClassifier(random_state=55017)\n",
    "model.fit(JK17_x_train, JK17_y_train)\n",
    "\n",
    "# Define K-Fold Cross-Validation\n",
    "kf = KFold(n_splits=5, shuffle=True, random_state=55017)\n",
    "\n",
    "# Perform cross-validation\n",
    "JK17_cv_scores = cross_val_score(model, JK17_x_data, JK17_y_data, cv=kf, scoring='accuracy')\n",
    "\n",
    "# Print results fold by fold\n",
    "print(\"Cross-validation scores per fold:\")\n",
    "for fold, score in enumerate(JK17_cv_scores, start=1):\n",
    "    print(f\"Fold {fold}: JK17_accuracy = {score:.4f}\")\n",
    "\n",
    "# Print the mean JK17_accuracy\n",
    "print(f\"\\nMean JK17_accuracy: {JK17_cv_scores.mean():.4f}\")"
   ]
  },
  {
   "cell_type": "markdown",
   "metadata": {
    "id": "8bA5zVD4DuG6"
   },
   "source": [
    "### Confusion Matrix"
   ]
  },
  {
   "cell_type": "code",
   "execution_count": 306,
   "metadata": {
    "colab": {
     "base_uri": "https://localhost:8080/",
     "height": 467
    },
    "id": "iMaILxtHhZDu",
    "outputId": "4b6930e1-69c9-4705-cd17-b8373eef2841"
   },
   "outputs": [
    {
     "data": {
      "text/plain": [
       "<sklearn.metrics._plot.confusion_matrix.ConfusionMatrixDisplay at 0x1edcc6ad2e0>"
      ]
     },
     "execution_count": 306,
     "metadata": {},
     "output_type": "execute_result"
    },
    {
     "data": {
      "image/png": "[encoded data removed]",
      "text/plain": [
       "<Figure size 640x480 with 2 Axes>"
      ]
     },
     "metadata": {},
     "output_type": "display_data"
    }
   ],
   "source": [
    "# Step 3: Make Predictions\n",
    "JK17_y_pred = model.predict(JK17_x_test)\n",
    "\n",
    "# Step 4: Compute Confusion Matrix\n",
    "JK17_cm= confusion_matrix(JK17_y_test, JK17_y_pred)\n",
    "\n",
    "# Step 5: JK17_display Confusion Matrix\n",
    "JK17_disp = ConfusionMatrixDisplay(confusion_matrix=JK17_cm, display_labels=model.classes_)\n",
    "JK17_disp.plot(cmap=\"Reds\")"
   ]
  },
  {
   "cell_type": "markdown",
   "metadata": {
    "id": "tpthGv9iDwv9"
   },
   "source": [
    "### Metrics"
   ]
  },
  {
   "cell_type": "code",
   "execution_count": 308,
   "metadata": {
    "colab": {
     "base_uri": "https://localhost:8080/",
     "height": 318
    },
    "id": "HwOEStIqhigt",
    "outputId": "95d93446-a6d1-4f07-b06c-a01498732da3"
   },
   "outputs": [
    {
     "name": "stdout",
     "output_type": "stream",
     "text": [
      "Performance Metrics for Random Forest:\n"
     ]
    },
    {
     "data": {
      "text/html": [
       "<div>\n",
       "<style scoped>\n",
       "    .dataframe tbody tr th:only-of-type {\n",
       "        vertical-align: middle;\n",
       "    }\n",
       "\n",
       "    .dataframe tbody tr th {\n",
       "        vertical-align: top;\n",
       "    }\n",
       "\n",
       "    .dataframe thead th {\n",
       "        text-align: right;\n",
       "    }\n",
       "</style>\n",
       "<table border=\"1\" class=\"dataframe\">\n",
       "  <thead>\n",
       "    <tr style=\"text-align: right;\">\n",
       "      <th></th>\n",
       "      <th>Random Forest</th>\n",
       "    </tr>\n",
       "  </thead>\n",
       "  <tbody>\n",
       "    <tr>\n",
       "      <th>sensitivity (TPR)</th>\n",
       "      <td>0.507937</td>\n",
       "    </tr>\n",
       "    <tr>\n",
       "      <th>specificity (TNR)</th>\n",
       "      <td>0.512077</td>\n",
       "    </tr>\n",
       "    <tr>\n",
       "      <th>Miss Rate (FNR)</th>\n",
       "      <td>0.492063</td>\n",
       "    </tr>\n",
       "    <tr>\n",
       "      <th>fallout (FPR)</th>\n",
       "      <td>0.487923</td>\n",
       "    </tr>\n",
       "    <tr>\n",
       "      <th>accuracy</th>\n",
       "      <td>0.509992</td>\n",
       "    </tr>\n",
       "    <tr>\n",
       "      <th>precision</th>\n",
       "      <td>0.513644</td>\n",
       "    </tr>\n",
       "    <tr>\n",
       "      <th>F1 Score</th>\n",
       "      <td>0.510774</td>\n",
       "    </tr>\n",
       "    <tr>\n",
       "      <th>AUC</th>\n",
       "      <td>0.510007</td>\n",
       "    </tr>\n",
       "  </tbody>\n",
       "</table>\n",
       "</div>"
      ],
      "text/plain": [
       "                   Random Forest\n",
       "sensitivity (TPR)       0.507937\n",
       "specificity (TNR)       0.512077\n",
       "Miss Rate (FNR)         0.492063\n",
       "fallout (FPR)           0.487923\n",
       "accuracy                0.509992\n",
       "precision               0.513644\n",
       "F1 Score                0.510774\n",
       "AUC                     0.510007"
      ]
     },
     "execution_count": 308,
     "metadata": {},
     "output_type": "execute_result"
    }
   ],
   "source": [
    "from sklearn.metrics import confusion_matrix, roc_auc_score, precision_score, recall_score, f1_score, accuracy_score\n",
    "\n",
    "# Step 1: Generate confusion matrix\n",
    "JK17_cm= confusion_matrix(JK17_y_test, JK17_y_pred)\n",
    "tn, fp, fn, tp = JK17_cm.ravel()  # Extract TN, FP, FN, TP\n",
    "\n",
    "# Step 2: Calculate metrics\n",
    "JK17_sensitivity = tp / (tp + fn)  # True Positive Rate (TPR)\n",
    "JK17_specificity = tn / (tn + fp)  # True Negative Rate (TNR)\n",
    "JK17_miss_rate = fn / (tp + fn)    # False Negative Rate (FNR)\n",
    "JK17_fallout = fp / (tn + fp)      # False Positive Rate (FPR)\n",
    "JK17_accuracy = accuracy_score(JK17_y_test, JK17_y_pred)  # JK17_accuracy\n",
    "JK17_precision= precision_score(JK17_y_test, JK17_y_pred)  # JK17_precision\n",
    "JK17_f1= f1_score(JK17_y_test, JK17_y_pred)  # F1 Score\n",
    "JK17_auc = roc_auc_score(JK17_y_test, model.predict_proba(JK17_x_test)[:, 1])  # Area Under ROC Curve (AUC)\n",
    "\n",
    "# Step 3: Print results in a table-like format\n",
    "import pandas as pd\n",
    "\n",
    "metrics = {\n",
    "    \"sensitivity (TPR)\": JK17_sensitivity,\n",
    "    \"specificity (TNR)\": JK17_specificity,\n",
    "    \"Miss Rate (FNR)\": JK17_miss_rate,\n",
    "    \"fallout (FPR)\": JK17_fallout,\n",
    "    \"accuracy\": JK17_accuracy,\n",
    "    \"precision\": JK17_precision,\n",
    "    \"F1 Score\": JK17_f1,\n",
    "    \"AUC\": JK17_auc\n",
    "}\n",
    "\n",
    "JK17_metrics_df = pd.DataFrame(metrics, index=[\"Random Forest\"]).transpose()\n",
    "\n",
    "print(\"Performance Metrics for Random Forest:\")\n",
    "JK17_metrics_df"
   ]
  },
  {
   "cell_type": "markdown",
   "metadata": {
    "id": "hBVrrwcyD2sS"
   },
   "source": [
    "## <u>Random Forest</u>"
   ]
  },
  {
   "cell_type": "markdown",
   "metadata": {
    "id": "CfYQa97xD6Nt"
   },
   "source": [
    "### Training & Accuracy"
   ]
  },
  {
   "cell_type": "code",
   "execution_count": 310,
   "metadata": {
    "colab": {
     "base_uri": "https://localhost:8080/"
    },
    "id": "DPGkdAXcXzJR",
    "outputId": "f1683d5f-8fa2-4560-99b0-11093a0560fb"
   },
   "outputs": [
    {
     "name": "stdout",
     "output_type": "stream",
     "text": [
      "Cross-validation scores per fold:\n",
      "Fold 1: JK17_accuracy = 0.4685\n",
      "Fold 2: JK17_accuracy = 0.4970\n",
      "Fold 3: JK17_accuracy = 0.4780\n",
      "Fold 4: JK17_accuracy = 0.5050\n",
      "Fold 5: JK17_accuracy = 0.4630\n",
      "\n",
      "Mean JK17_accuracy: 0.4823\n"
     ]
    }
   ],
   "source": [
    "from sklearn.model_selection import KFold, cross_val_score\n",
    "from sklearn.ensemble import RandomForestClassifier\n",
    "\n",
    "# Define Random Forest model\n",
    "model = RandomForestClassifier(random_state=55017)\n",
    "model.fit(JK17_x_train, JK17_y_train)\n",
    "\n",
    "# Define K-Fold Cross-Validation\n",
    "kf = KFold(n_splits=5, shuffle=True, random_state=55017)\n",
    "\n",
    "# Perform cross-validation\n",
    "JK17_cv_scores = cross_val_score(model, JK17_x_data, JK17_y_data, cv=kf, scoring='accuracy')\n",
    "\n",
    "# Print results fold by fold\n",
    "print(\"Cross-validation scores per fold:\")\n",
    "for fold, score in enumerate(JK17_cv_scores, start=1):\n",
    "    print(f\"Fold {fold}: JK17_accuracy = {score:.4f}\")\n",
    "\n",
    "# Print the mean JK17_accuracy\n",
    "print(f\"\\nMean JK17_accuracy: {JK17_cv_scores.mean():.4f}\")"
   ]
  },
  {
   "cell_type": "markdown",
   "metadata": {
    "id": "LaXaC6_UEAyq"
   },
   "source": [
    "### Confusion Matrix"
   ]
  },
  {
   "cell_type": "code",
   "execution_count": 311,
   "metadata": {
    "colab": {
     "base_uri": "https://localhost:8080/",
     "height": 467
    },
    "id": "kYYNHzDXdY_1",
    "outputId": "9f026db7-badc-4008-e1e3-b1d0d8760031"
   },
   "outputs": [
    {
     "data": {
      "text/plain": [
       "<sklearn.metrics._plot.confusion_matrix.ConfusionMatrixDisplay at 0x1edd06a8140>"
      ]
     },
     "execution_count": 311,
     "metadata": {},
     "output_type": "execute_result"
    },
    {
     "data": {
      "image/png": "[encoded data removed]",
      "text/plain": [
       "<Figure size 640x480 with 2 Axes>"
      ]
     },
     "metadata": {},
     "output_type": "display_data"
    }
   ],
   "source": [
    "# Step 3: Make Predictions\n",
    "JK17_y_pred = model.predict(JK17_x_test)\n",
    "\n",
    "# Step 4: Compute Confusion Matrix\n",
    "JK17_cm= confusion_matrix(JK17_y_test, JK17_y_pred)\n",
    "\n",
    "# Step 5: JK17_display Confusion Matrix\n",
    "JK17_disp = ConfusionMatrixDisplay(confusion_matrix=JK17_cm, display_labels=model.classes_)\n",
    "JK17_disp.plot(cmap=\"Greens\")"
   ]
  },
  {
   "cell_type": "markdown",
   "metadata": {
    "id": "08XlLJXKED7T"
   },
   "source": [
    "### Metrics"
   ]
  },
  {
   "cell_type": "code",
   "execution_count": 314,
   "metadata": {
    "colab": {
     "base_uri": "https://localhost:8080/",
     "height": 318
    },
    "id": "fLe2unKHeH4W",
    "outputId": "62543910-6097-42e9-eda5-923669aa6840"
   },
   "outputs": [
    {
     "name": "stdout",
     "output_type": "stream",
     "text": [
      "Performance Metrics for Random Forest:\n"
     ]
    },
    {
     "data": {
      "text/html": [
       "<div>\n",
       "<style scoped>\n",
       "    .dataframe tbody tr th:only-of-type {\n",
       "        vertical-align: middle;\n",
       "    }\n",
       "\n",
       "    .dataframe tbody tr th {\n",
       "        vertical-align: top;\n",
       "    }\n",
       "\n",
       "    .dataframe thead th {\n",
       "        text-align: right;\n",
       "    }\n",
       "</style>\n",
       "<table border=\"1\" class=\"dataframe\">\n",
       "  <thead>\n",
       "    <tr style=\"text-align: right;\">\n",
       "      <th></th>\n",
       "      <th>Random Forest</th>\n",
       "    </tr>\n",
       "  </thead>\n",
       "  <tbody>\n",
       "    <tr>\n",
       "      <th>Sensitivity (TPR)</th>\n",
       "      <td>0.455556</td>\n",
       "    </tr>\n",
       "    <tr>\n",
       "      <th>Specificity (TNR)</th>\n",
       "      <td>0.516908</td>\n",
       "    </tr>\n",
       "    <tr>\n",
       "      <th>Miss Rate (FNR)</th>\n",
       "      <td>0.544444</td>\n",
       "    </tr>\n",
       "    <tr>\n",
       "      <th>Fallout (FPR)</th>\n",
       "      <td>0.483092</td>\n",
       "    </tr>\n",
       "    <tr>\n",
       "      <th>Accuracy</th>\n",
       "      <td>0.486011</td>\n",
       "    </tr>\n",
       "    <tr>\n",
       "      <th>Precision</th>\n",
       "      <td>0.488927</td>\n",
       "    </tr>\n",
       "    <tr>\n",
       "      <th>F1 Score</th>\n",
       "      <td>0.471652</td>\n",
       "    </tr>\n",
       "    <tr>\n",
       "      <th>AUC</th>\n",
       "      <td>0.510007</td>\n",
       "    </tr>\n",
       "  </tbody>\n",
       "</table>\n",
       "</div>"
      ],
      "text/plain": [
       "                   Random Forest\n",
       "Sensitivity (TPR)       0.455556\n",
       "Specificity (TNR)       0.516908\n",
       "Miss Rate (FNR)         0.544444\n",
       "Fallout (FPR)           0.483092\n",
       "Accuracy                0.486011\n",
       "Precision               0.488927\n",
       "F1 Score                0.471652\n",
       "AUC                     0.510007"
      ]
     },
     "execution_count": 314,
     "metadata": {},
     "output_type": "execute_result"
    }
   ],
   "source": [
    "from sklearn.metrics import confusion_matrix, roc_auc_score, precision_score, recall_score, f1_score, accuracy_score\n",
    "\n",
    "# Step 1: Generate confusion matrix\n",
    "cm = confusion_matrix(JK17_y_test, JK17_y_pred)\n",
    "tn, fp, fn, tp = cm.ravel()  # Extract TN, FP, FN, TP\n",
    "\n",
    "# Step 2: Calculate metrics\n",
    "JK17_sensitivity = tp / (tp + fn)  # True Positive Rate (TPR)\n",
    "JK17_specificity = tn / (tn + fp)  # True Negative Rate (TNR)\n",
    "JK17_miss_rate = fn / (tp + fn)    # False Negative Rate (FNR)\n",
    "JK17_fallout = fp / (tn + fp)      # False Positive Rate (FPR)\n",
    "JK17_accuracy = accuracy_score(JK17_y_test, JK17_y_pred)  # Accuracy\n",
    "JK17_precision = precision_score(JK17_y_test, JK17_y_pred)  # Precision\n",
    "JK17_f1 = f1_score(JK17_y_test, JK17_y_pred)  # JK17_precisionc = roc_auc_score(y_test, model.predict_proba(X_test)[:, 1])  # Area Under ROC Curve (AUC)\n",
    "\n",
    "# Step 3: Print results in a table-like format\n",
    "import pandas as pd\n",
    "\n",
    "metrics = {\n",
    "    \"Sensitivity (TPR)\": JK17_sensitivity,\n",
    "    \"Specificity (TNR)\": JK17_specificity,\n",
    "    \"Miss Rate (FNR)\": JK17_miss_rate,\n",
    "    \"Fallout (FPR)\": JK17_fallout,\n",
    "    \"Accuracy\": JK17_accuracy,\n",
    "    \"Precision\": JK17_precision,\n",
    "    \"F1 Score\": JK17_f1,\n",
    "    \"AUC\": JK17_auc\n",
    "}\n",
    "\n",
    "metrics_df = pd.DataFrame(metrics, index=[\"Random Forest\"]).transpose()\n",
    "\n",
    "JK17_metrics_df = pd.DataFrame(metrics, index=[\"Random Forest\"]).transpose()\n",
    "\n",
    "print(\"Performance Metrics for Random Forest:\")\n",
    "JK17_metrics_df"
   ]
  }
 ],
 "metadata": {
  "colab": {
   "collapsed_sections": [
    "Ov_P-pFvmxDc",
    "m3rQtqsf_0Nm",
    "i3I5RVel8TUT",
    "mbzX_Hst9FgJ",
    "EVnndrVdjsr4",
    "gLdJeofMnlFv",
    "Ze1yQ8OPjyY8",
    "HkKZhWQY-Eff",
    "xJCx0uVJ-JHn",
    "CMHMflEy-_Qm",
    "V0k7gUB0_NWr",
    "LOFADEPn_X0Q",
    "3rNzZoE4lhLs",
    "-c0vzp-EnMXR",
    "Lcd9-pVWBsa-",
    "pQJctu_ICD-7",
    "dHGA4QiaCI2p",
    "Jp2JPI4LCNOB",
    "WJyv8j6oC64X",
    "SASHIqWeC_JP",
    "1sWR5T3eDObc",
    "eDerOw3sDXxc",
    "nbfJvR5IDgNk",
    "ch9sxvMxDoGF",
    "8bA5zVD4DuG6",
    "tpthGv9iDwv9",
    "CfYQa97xD6Nt",
    "LaXaC6_UEAyq",
    "08XlLJXKED7T"
   ],
   "provenance": []
  },
  "kernelspec": {
   "display_name": "Python 3 (ipykernel)",
   "language": "python",
   "name": "python3"
  },
  "language_info": {
   "codemirror_mode": {
    "name": "ipython",
    "version": 3
   },
   "file_extension": ".py",
   "mimetype": "text/x-python",
   "name": "python",
   "nbconvert_exporter": "python",
   "pygments_lexer": "ipython3",
   "version": "3.12.4"
  }
 },
 "nbformat": 4,
 "nbformat_minor": 4
}
